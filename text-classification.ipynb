{
 "cells": [
  {
   "cell_type": "markdown",
   "metadata": {
    "id": "tyn3eevxW6Na"
   },
   "source": [
    "# Text classification: We are going to developp a model able to classify text in 6 categories."
   ]
  },
  {
   "cell_type": "markdown",
   "metadata": {
    "id": "hekaCsWFQMdL"
   },
   "source": [
    "# Choose directories"
   ]
  },
  {
   "cell_type": "code",
   "execution_count": null,
   "metadata": {
    "id": "GPGRNxmxPi33"
   },
   "outputs": [],
   "source": [
    "\"\"\"\n",
    "\n",
    "data_path : concerns the path of the .csv file used as training set\n",
    "models_folder : referes to the folder where the models obtain after each epochs will store.\n",
    "main_folder : refers to folder containing your Train.csv file, the of Dataset folder that \n",
    "N_EPOCHS : is the number of iterations\n",
    "\n",
    "\"\"\"\n",
    "\n",
    "data_path = \"drive/MyDrive/Dataset/text classification/Train.csv\"\n",
    "models_folder = \"drive/MyDrive/Models/text classification/\"\n",
    "main_folder = \"drive/MyDrive/Dataset/text classification/\"\n",
    "N_EPOCHS = 12"
   ]
  },
  {
   "cell_type": "markdown",
   "metadata": {
    "id": "yKoL2hXIhqtg"
   },
   "source": [
    "## Installation spacy==3.1.0 et fr_code_news_sm pour spacy"
   ]
  },
  {
   "cell_type": "code",
   "execution_count": null,
   "metadata": {
    "id": "D5lxw_dihjZc"
   },
   "outputs": [],
   "source": [
    "%pip install bitarray fastBPE hydra-core omegaconf regex requests sacremoses subword_nmt gradio spacy==3.1.0\n",
    "!python -m spacy download fr_core_news_sm"
   ]
  },
  {
   "cell_type": "markdown",
   "metadata": {
    "id": "BRVLDCZdW6Nj"
   },
   "source": [
    "## Import"
   ]
  },
  {
   "cell_type": "code",
   "execution_count": 1,
   "metadata": {
    "id": "KbVEnLjLW6Nk"
   },
   "outputs": [],
   "source": [
    "import os\n",
    "import torch\n",
    "from torchtext.legacy import data\n",
    "import seaborn as sns\n",
    "import matplotlib.pyplot as plt\n",
    "import pandas as pd\n",
    "import numpy as np\n",
    "import random\n"
   ]
  },
  {
   "cell_type": "code",
   "execution_count": null,
   "metadata": {
    "colab": {
     "base_uri": "https://localhost:8080/"
    },
    "id": "av5SprrHt1MN",
    "outputId": "9260f9d5-d977-42a3-debf-9e67daf05a0b"
   },
   "outputs": [
    {
     "name": "stdout",
     "output_type": "stream",
     "text": [
      "Go to this URL in a browser: https://accounts.google.com/o/oauth2/auth?client_id=947318989803-6bn6qk8qdgf4n4g3pfee6491hc0brc4i.apps.googleusercontent.com&redirect_uri=urn%3aietf%3awg%3aoauth%3a2.0%3aoob&scope=email%20https%3a%2f%2fwww.googleapis.com%2fauth%2fdocs.test%20https%3a%2f%2fwww.googleapis.com%2fauth%2fdrive%20https%3a%2f%2fwww.googleapis.com%2fauth%2fdrive.photos.readonly%20https%3a%2f%2fwww.googleapis.com%2fauth%2fpeopleapi.readonly%20https%3a%2f%2fwww.googleapis.com%2fauth%2fdrive.activity.readonly%20https%3a%2f%2fwww.googleapis.com%2fauth%2fexperimentsandconfigs%20https%3a%2f%2fwww.googleapis.com%2fauth%2fphotos.native&response_type=code\n",
      "\n",
      "Enter your authorization code:\n",
      "4/1AX4XfWhWa5qMwicAf1Ru3afYj80LPpj_OZZcbrfBZ7HGjsFTnSzAHz8g7zA\n"
     ]
    }
   ],
   "source": [
    "# If you are usingcollab\n",
    "\n",
    "from google.colab import drive\n",
    "drive.mount('/content/drive')"
   ]
  },
  {
   "cell_type": "markdown",
   "metadata": {
    "id": "7dzZUWe8W6No"
   },
   "source": [
    "## Reproducibility"
   ]
  },
  {
   "cell_type": "code",
   "execution_count": null,
   "metadata": {
    "id": "7XB-8h_hW6Nq"
   },
   "outputs": [],
   "source": [
    "SEED = 2021\n",
    "\n",
    "def reproducibility(seed=2021):\n",
    "    \n",
    "    # seed for random, os, numpy and torch librayr\n",
    "    random.seed(seed)\n",
    "    os.environ['PYTHONHASHSEED'] = str(seed)\n",
    "    np.random.seed(seed)\n",
    "    torch.manual_seed(seed)\n",
    "    \n",
    "    # seed fo cuda\n",
    "    torch.cuda.manual_seed(seed)\n",
    "    torch.backends.cudnn.deterministic = True\n",
    "    torch.backends.cudnn.benchmark = False\n",
    "\n",
    "reproducibility(SEED)"
   ]
  },
  {
   "cell_type": "markdown",
   "metadata": {
    "id": "m3cPhuljW6Nr"
   },
   "source": [
    "## EDA"
   ]
  },
  {
   "cell_type": "code",
   "execution_count": null,
   "metadata": {
    "id": "Mqzo-wbOW6Nt"
   },
   "outputs": [],
   "source": [
    "donnees = pd.read_csv(data_path, index_col=\"Tweet_ID\")\n",
    "\n",
    "sns.set_style(\"dark\")\n",
    "sns.set_context(\"notebook\")\n",
    "plt.figure(figsize=(8, 5))\n",
    "plt.subplot(111)\n",
    "sns.countplot(data=donnees, x=\"type\")\n",
    "plt.xticks(rotation=90)\n",
    "plt.legend(loc=\"upper right\")\n",
    "plt.show()"
   ]
  },
  {
   "cell_type": "code",
   "execution_count": null,
   "metadata": {
    "id": "JBS_O51jW6Nu"
   },
   "outputs": [],
   "source": [
    "num_data_per_class = donnees[\"type\"].value_counts()\n",
    "num_data_per_class"
   ]
  },
  {
   "cell_type": "code",
   "execution_count": null,
   "metadata": {
    "id": "rk89AiZ2W6Nw"
   },
   "outputs": [],
   "source": [
    "percentage_data_per_class = 100*donnees[\"type\"].value_counts()/donnees.shape[0]\n",
    "percentage_data_per_class"
   ]
  },
  {
   "cell_type": "code",
   "execution_count": null,
   "metadata": {
    "id": "VZTU8IAFW6Ny"
   },
   "outputs": [],
   "source": [
    "1 / (100*donnees[\"type\"].value_counts()/donnees.shape[0])"
   ]
  },
  {
   "cell_type": "markdown",
   "metadata": {
    "id": "vj2hhLkhW6Nz"
   },
   "source": [
    "## Resampling"
   ]
  },
  {
   "cell_type": "code",
   "execution_count": null,
   "metadata": {
    "id": "1Daq78J_W6N0"
   },
   "outputs": [],
   "source": [
    "labels = [\"sexual_violence\", \"Physical_violence\", \"emotional_violence\",\n",
    "         \"economic_violence\", \"Harmful_Traditional_practice\"]"
   ]
  },
  {
   "cell_type": "markdown",
   "metadata": {
    "id": "_vj0r1PtW6N1"
   },
   "source": [
    "## For generate french dataset"
   ]
  },
  {
   "cell_type": "code",
   "execution_count": null,
   "metadata": {
    "id": "Ftn_a7iELKJQ"
   },
   "outputs": [],
   "source": [
    "# Load an En-Fr Transformer model trained on WMT'14 data :\n",
    "en2fr = torch.hub.load('pytorch/fairseq:v0.10.2', 'transformer.wmt14.en-fr', tokenizer='moses', bpe='subword_nmt')\n",
    "\n",
    "# Use the GPU (optional):\n",
    "en2fr.cuda()"
   ]
  },
  {
   "cell_type": "code",
   "execution_count": null,
   "metadata": {
    "colab": {
     "background_save": true
    },
    "id": "EH0LxUw-W6N4"
   },
   "outputs": [],
   "source": [
    "import math\n",
    "percent = 0.7\n",
    "\n",
    "new_train_data = pd.concat([donnees.loc[donnees[\"type\"]==t, :].sample(130) for t in labels]\n",
    "                , axis=0)\n",
    "\n",
    "new_valid_data = pd.concat([donnees.loc[donnees[\"type\"]==t, :].sample(58) for t in labels]\n",
    "                , axis=0)\n",
    "\n",
    "new_train_data[\"tweet\"] = pd.DataFrame(new_train_data[\"tweet\"].apply(lambda x:  en2fr.translate(x)))\n",
    "new_valid_data[\"tweet\"] = pd.DataFrame(new_valid_data[\"tweet\"].apply(lambda x:  en2fr.translate(x)))\n",
    "\n",
    "new_train_data.to_csv(main_folder+\"new_train.csv\")\n",
    "new_valid_data.to_csv(main_folder+\"new_valid.csv\")"
   ]
  },
  {
   "cell_type": "markdown",
   "metadata": {
    "id": "J8r72yIIW6N5"
   },
   "source": [
    "## Preprocessing"
   ]
  },
  {
   "cell_type": "code",
   "execution_count": null,
   "metadata": {
    "id": "Fh84IT4OW6N5"
   },
   "outputs": [],
   "source": [
    "# Now, let us see how to preprocess the text using field objects.\n",
    "# There are 2 different types of field objects – Field and LabelField.\n",
    "# Field concern the preprocessing tehcnics to apply on text ans LabelField concern ones toapply for Label.\n",
    "\n",
    "TEXT = data.Field(tokenize='spacy', tokenizer_language='fr', batch_first=True, include_lengths=True)\n",
    "LABEL = data.LabelField()\n",
    "\n",
    "# This variable is used to read file data.\n",
    "fields = [('Tweet_ID',None), ('tweet',TEXT), ('type', LABEL)]\n",
    "\n",
    "# Loading custom dataset    \n",
    "train_data=data.TabularDataset(path = 'drive/MyDrive/Dataset/text classification/new_train.csv'\n",
    "                                  ,format = 'csv', fields = fields, skip_header = True)\n",
    "valid_data=data.TabularDataset(path = 'drive/MyDrive/Dataset/text classification/new_valid.csv'\n",
    "                                  ,format = 'csv', fields = fields, skip_header = True)\n",
    "\n",
    "# Print preprocessed text\n",
    "print(vars(train_data.examples[0]))"
   ]
  },
  {
   "cell_type": "markdown",
   "metadata": {
    "id": "MAuZO8iFW6N6"
   },
   "source": [
    "## Split data to train and validation set "
   ]
  },
  {
   "cell_type": "code",
   "execution_count": null,
   "metadata": {
    "id": "gZnpuDhFW6N7"
   },
   "outputs": [],
   "source": [
    "# Check whether cuda is available\n",
    "device = torch.device('cuda' if torch.cuda.is_available() else 'cpu')  \n",
    "\n",
    "# Set batch size\n",
    "BATCH_SIZE = 64\n",
    "\n",
    "# Load iterators\n",
    "train_iterator, valid_iterator = data.BucketIterator.splits(\n",
    "    (train_data, valid_data),\n",
    "    batch_size = BATCH_SIZE,\n",
    "    sort_key = lambda x: len(x.tweet),\n",
    "    sort_within_batch=True,\n",
    "    device = device)"
   ]
  },
  {
   "cell_type": "markdown",
   "metadata": {
    "id": "0WbrDG-XW6N7"
   },
   "source": [
    "## Preparing input and output sequences"
   ]
  },
  {
   "cell_type": "code",
   "execution_count": null,
   "metadata": {
    "colab": {
     "base_uri": "https://localhost:8080/"
    },
    "id": "7agRN0dCW6N9",
    "outputId": "546d82cd-326b-4988-a989-24132b5873ad"
   },
   "outputs": [
    {
     "name": "stderr",
     "output_type": "stream",
     "text": [
      ".vector_cache/glove.6B.zip: 862MB [02:41, 5.34MB/s]                           \n",
      "100%|█████████▉| 399999/400000 [00:20<00:00, 19378.99it/s]\n"
     ]
    },
    {
     "name": "stdout",
     "output_type": "stream",
     "text": [
      "Size of TEXT vocabulary: 1135\n",
      "Size of LABEL vocabulary: 5\n",
      "Commonly used words [('.', 1039), (',', 870), ('de', 720), ('que', 486), ('et', 431), ('\"', 376), ('à', 363), ('a', 349), ('me', 342), ('-', 327)]\n",
      "Word dictionary dict_items([('<unk>', 0), ('<pad>', 1), ('.', 2), (',', 3), ('de', 4), ('que', 5), ('et', 6), ('\"', 7), ('à', 8), ('a', 9), ('me', 10), ('-', 11), ('la', 12), ('je', 13), ('pas', 14), ('le', 15), ('des', 16), ('un', 17), ('ne', 18), ('une', 19), ('en', 20), ('les', 21), ('il', 22), ('mon', 23), ('pour', 24), ('été', 25), (\"m'a\", 26), ('Je', 27), (\"qu'il\", 28), ('qui', 29), ('parce', 30), (\"j'ai\", 31), ('femme', 32), ('vous', 33), ('dans', 34), ('I', 35), (\"J'ai\", 36), ('dit', 37), ('ce', 38), ('est', 39), ('public', 40), ('mari', 41), (':', 42), ('!', 43), ('au', 44), ('Il', 45), ('suis', 46), ('?', 47), ('mais', 48), ('avec', 49), ('...', 50), ('ans', 51), ('lui', 52), ('moi', 53), ('bat', 54), ('être', 55), ('comme', 56), ('si', 57), ('était', 58), ('plus', 59), ('son', 60), ('Mon', 61), ('fait', 62), ('violée', 63), ('*', 64), ('du', 65), (')', 66), (\"c'est\", 67), ('to', 68), ('(', 69), ('se', 70), (';', 71), ('my', 72), ('and', 73), ('congédiée', 74), ('ma', 75), ('femmes', 76), ('sur', 77), ('emploi', 78), ('congédié', 79), ('was', 80), ('faire', 81), ('the', 82), ('par', 83), ('insulté', 84), ('avait', 85), ('in', 86), ('mutilation', 87), ('ou', 88), ('quand', 89), ('sont', 90), ('avoir', 91), ('&', 92), ('elle', 93), ('he', 94), ('même', 95), ('travail', 96), (\"d'un\", 97), ('jamais', 98), ('génitale', 99), ('nous', 100), ('/', 101), ('gens', 102), (\"j'étais\", 103), ('mes', 104), ('ont', 105), ('sa', 106), ('tout', 107), ('y', 108), ('amp', 109), ('as', 110), ('féminine', 111), ('où', 112), ('étais', 113), ('on', 114), (\"qu'elle\", 115), ('subir', 116), ('violé', 117), ('do', 118), ('humilié', 119), ('mariage', 120), ('My', 121), ('i', 122), ('patron', 123), (\"C'est\", 124), ('aux', 125), (\"d'enfants\", 126), (\"j'avais\", 127), ('that', 128), ('eu', 129), (\"d'avoir\", 130), ('Me', 131), ('dire', 132), ('filles', 133), ('fois', 134), ('j', 135), (\"s'est\", 136), ('cela', 137), ('nt', 138), ('of', 139), ('cette', 140), ('enfants', 141), ('peut', 142), ('tous', 143), ('..', 144), ('après', 145), ('besoin', 146), ('for', 147), ('mariages', 148), ('mère', 149), (\"n'ai\", 150), ('Le', 151), ('Les', 152), ('d', 153), (\"d'une\", 154), ('génitales', 155), ('it', 156), (\"l'a\", 157), ('mutilations', 158), ('pourquoi', 159), (\"s'il\", 160), ('alors', 161), ('aussi', 162), ('chose', 163), ('homme', 164), ('maintenant', 165), ('pendant', 166), (\"quelqu'un\", 167), ('ces', 168), ('jour', 169), (\"n't\", 170), ('relations', 171), ('ses', 172), ('votre', 173), ('you', 174), ('ça', 175), ('Une', 176), ('because', 177), ('deux', 178), ('is', 179), ('non', 180), ('sexuelles', 181), ('with', 182), ('cause', 183), ('comment', 184), ('fille', 185), ('forcé', 186), ('ils', 187), ('là', 188), ('personne', 189), ('soit', 190), ('Husband', 191), ('Mais', 192), ('Un', 193), ('demandé', 194), ('l', 195), (\"m'ont\", 196), ('n', 197), (\"n'est\", 198), ('toujours', 199), ('Elle', 200), ('féminines', 201), ('hommes', 202), ('leur', 203), (\"qu'ils\", 204), ('temps', 205), ('u', 206), ('Beats', 207), ('Nous', 208), ('Si', 209), ('façon', 210), ('peux', 211), ('voir', 212), ('vraiment', 213), ('ai', 214), ('beats', 215), ('but', 216), ('encore', 217), ('enfant', 218), ('forcée', 219), ('gars', 220), (\"l'ai\", 221), ('mettre', 222), ('père', 223), ('sans', 224), ('seulement', 225), ('simplement', 226), ('sujet', 227), ('vie', 228), ('En', 229), ('La', 230), ('MGF', 231), ('at', 232), ('bien', 233), ('devrait', 234), ('histoire', 235), ('so', 236), ('très', 237), ('A', 238), ('Et', 239), (\"d'être\", 240), ('fin', 241), ('forcés', 242), ('husband', 243), ('mois', 244), (\"n'a\", 245), ('sais', 246), ('tellement', 247), ('He', 248), ('cet', 249), ('from', 250), ('have', 251), ('pense', 252), ('raison', 253), ('she', 254), ('tant', 255), ('trop', 256), ('woman', 257), ('À', 258), ('....', 259), ('16', 260), ('2', 261), ('choses', 262), ('compte', 263), ('contre', 264), (\"d'autres\", 265), ('doivent', 266), ('had', 267), ('parlé', 268), ('pays', 269), ('peu', 270), ('problème', 271), (\"qu'une\", 272), ('quelque', 273), ('refusé', 274), ('rien', 275), ('subissent', 276), ('this', 277), ('toutes', 278), ('veux', 279), ('viol', 280), ('violeur', 281), ('%', 282), ('Ils', 283), ('ami', 284), ('années', 285), ('autre', 286), ('avant', 287), ('avez', 288), ('bonne', 289), ('did', 290), ('déjà', 291), ('him', 292), ('his', 293), ('jeune', 294), ('job', 295), ('maison', 296), ('mal', 297), ('monde', 298), ('out', 299), ('parler', 300), ('perdu', 301), ('personnes', 302), ('pris', 303), ('publique', 304), ('tard', 305), ('they', 306), ('want', 307), ('1', 308), ('Ce', 309), ('DE', 310), ('In', 311), ('Ma', 312), ('Vous', 313), ('all', 314), ('assez', 315), ('beaucoup', 316), ('bon', 317), ('depuis', 318), ('dernière', 319), ('différence', 320), ('e', 321), ('enceinte', 322), ('eux', 323), ('famille', 324), ('fired', 325), ('her', 326), ('humiliée', 327), ('just', 328), ('juste', 329), ('notre', 330), ('parents', 331), ('part', 332), ('peur', 333), ('point', 334), ('premier', 335), ('quoi', 336), ('raped', 337), ('rapports', 338), ('sexuels', 339), ('toute', 340), ('tribunal', 341), ('trois', 342), ('type', 343), ('va', 344), ('when', 345), (\"'\", 346), (\"'s\", 347), ('11', 348), ('12', 349), ('Alors', 350), ('Cameroun', 351), (\"J'étais\", 352), ('Parce', 353), ('Pour', 354), ('Trump', 355), ('be', 356), ('c', 357), (\"c'était\", 358), ('ceux', 359), ('demande', 360), ('devant', 361), ('fais', 362), ('humiliated', 363), ('littéralement', 364), ('lorsque', 365), ('m', 366), ('marier', 367), ('marriage', 368), ('no', 369), ('noire', 370), ('oui', 371), ('pouvoir', 372), ('puis', 373), (\"qu'un\", 374), ('quelques', 375), ('sens', 376), ('seule', 377), ('sûr', 378), ('t', 379), ('up', 380), ('veut', 381), ('États', 382), ('âge', 383), ('Cela', 384), ('Cette', 385), ('Est', 386), ('It', 387), (\"J'avais\", 388), ('Ne', 389), ('Unis', 390), ('am', 391), ('an', 392), ('avons', 393), ('battu', 394), ('being', 395), ('bloqué', 396), ('by', 397), ('chaque', 398), ('chez', 399), ('cours', 400), ('devraient', 401), ('droit', 402), ('dû', 403), ('entre', 404), ('ex', 405), ('ici', 406), ('leurs', 407), ('moins', 408), ('moment', 409), (\"n'y\", 410), ('partie', 411), ('poste', 412), ('prendre', 413), ('relation', 414), ('s', 415), ('semaine', 416), ('sexe', 417), ('sexuel', 418), ('souviens', 419), ('travaillé', 420), ('undergo', 421), ('étaient', 422), ('15', 423), ('18', 424), ('Biden', 425), ('Bonjour', 426), ('EN', 427), (\"J'espère\", 428), ('Quand', 429), ('aucune', 430), ('bas', 431), ('chef', 432), ('demander', 433), ('dernier', 434), ('dites', 435), ('dois', 436), ('donne', 437), ('donner', 438), ('donné', 439), ('essayé', 440), ('etc', 441), ('female', 442), ('got', 443), ('honte', 444), ('jeunes', 445), ('journée', 446), ('jours', 447), (\"l'âge\", 448), ('laisser', 449), ('like', 450), ('lol', 451), (\"lorsqu'il\", 452), ('lu', 453), (\"m'avez\", 454), ('main', 455), ('marié', 456), ('mauvais', 457), ('merde', 458), (\"n'avais\", 459), ('not', 460), ('nuit', 461), ('petit', 462), ('petite', 463), ('rend', 464), ('rendu', 465), ('sex', 466), ('soir', 467), ('sous', 468), ('trouver', 469), ('tuer', 470), ('tête', 471), ('via', 472), ('voici', 473), ('vrai', 474), (\"'m\", 475), ('14', 476), ('17', 477), ('20', 478), ('5', 479), ('Après', 480), (\"Aujourd'hui\", 481), ('Chaque', 482), ('Court', 483), ('On', 484), ('Pourquoi', 485), ('Public', 486), (\"Quelqu'un\", 487), ('Tells', 488), ('[', 489), (']', 490), ('about', 491), ('autres', 492), ('battait', 493), ('before', 494), ('blanche', 495), ('can', 496), ('celle', 497), ('chienne', 498), ('colère', 499), ('commencé', 500), ('congédier', 501), ('devrais', 502), ('dis', 503), ('disant', 504), ('donc', 505), ('droits', 506), ('gagné', 507), ('genital', 508), (\"l'impression\", 509), ('lendemain', 510), ('lieu', 511), ('lors', 512), ('mieux', 513), ('mérite', 514), (\"n'était\", 515), ('nouvel', 516), ('obtenu', 517), ('one', 518), ('parle', 519), ('place', 520), ('plaît', 521), ('plutôt', 522), ('pouvait', 523), ('probablement', 524), ('propre', 525), ('quel', 526), ('regarder', 527), ('said', 528), ('sait', 529), ('semble', 530), ('senti', 531), ('sexuellement', 532), ('shit', 533), ('soutenir', 534), ('their', 535), ('them', 536), ('think', 537), ('triste', 538), ('trouvé', 539), ('tweet', 540), ('vais', 541), ('violence', 542), ('violer', 543), ('voté', 544), ('voulait', 545), ('vu', 546), ('we', 547), ('women', 548), ('également', 549), ('10', 550), ('2015', 551), ('30', 552), ('And', 553), ('Cher', 554), ('De', 555), ('JE', 556), ('LES', 557), ('Moi', 558), ('Même', 559), ('Obama', 560), ('Oui', 561), ('Pendant', 562), ('Shagufa', 563), ('The', 564), ('Tout', 565), ('Wife', 566), ('ait', 567), ('aller', 568), ('allée', 569), ('amie', 570), ('been', 571), ('blague', 572), ('boss', 573), ('bébé', 574), ('campagne', 575), ('celui', 576), ('certains', 577), ('ci', 578), ('collègue', 579), ('comportement', 580), ('compris', 581), ('crier', 582), ('crois', 583), ('côté', 584), (\"d'Afghanistan\", 585), (\"d'autre\", 586), ('dismissed', 587), ('does', 588), ('emplois', 589), ('ensuite', 590), ('faisais', 591), ('feel', 592), ('fils', 593), ('force', 594), ('forced', 595), ('frère', 596), ('garçon', 597), ('get', 598), ('girls', 599), ('go', 600), ('grand', 601), ('has', 602), ('hier', 603), ('how', 604), ('if', 605), ('illégal', 606), ('insultée', 607), ('into', 608), ('jusqu', 609), ('know', 610), (\"l'argent\", 611), (\"l'avait\", 612), (\"l'école\", 613), ('laquelle', 614), ('ligne', 615), ('malade', 616), ('man', 617), ('mariée', 618), ('membre', 619), ('menacé', 620), ('met', 621), ('millions', 622), ('mise', 623), ('mort', 624), (\"n'avait\", 625), (\"n'avez\", 626), (\"n'ont\", 627), ('nom', 628), ('nos', 629), ('off', 630), ('old', 631), ('originaire', 632), ('pensais', 633), ('pensait', 634), ('police', 635), ('première', 636), ('prison', 637), ('pu', 638), ('quitter', 639), ('raconte', 640), ('refusais', 641), ('rencontrer', 642), ('rendre', 643), ('savez', 644), ('sent', 645), ('sexuelle', 646), ('sommes', 647), ('suppose', 648), ('sécurité', 649), ('tu', 650), ('victime', 651), ('viens', 652), ('vient', 653), ('visage', 654), ('voulais', 655), ('who', 656), ('why', 657), ('âgées', 658), ('êtes', 659), ('+', 660), ('19', 661), ('2016', 662), ('90', 663), ('Bien', 664), ('But', 665), ('Ces', 666), ('ET', 667), ('Ese', 668), ('Juste', 669), ('K', 670), ('MAROUA', 671), ('ME', 672), ('MON', 673), ('Mossoul', 674), ('Oh', 675), ('PUBLIC', 676), ('Puis', 677), (\"Qu'est\", 678), ('RT', 679), ('Rien', 680), ('Son', 681), ('This', 682), ('Tu', 683), ('YAOUNDE', 684), ('afin', 685), ('aider', 686), ('ainsi', 687), ('are', 688), ('article', 689), (\"aujourd'hui\", 690), ('avaient', 691), ('back', 692), ('bain', 693), ('baise', 694), ('barbe', 695), ('bc', 696), ('bizarre', 697), ('chance', 698), ('child', 699), ('choir', 700), ('choix', 701), ('circoncision', 702), ('clients', 703), ('comprendre', 704), ('comprends', 705), ('consentement', 706), ('corpse', 707), ('coupable', 708), ('coups', 709), ('court', 710), ('cousin', 711), ('culture', 712), (\"d'accord\", 713), (\"d'asile\", 714), (\"d'enfant\", 715), ('derrière', 716), ('dessus', 717), ('devoir', 718), ('difficile', 719), ('divorce', 720), ('domestique', 721), ('down', 722), ('déposé', 723), ('déteste', 724), ('enfuie', 725), ('entendu', 726), ('exactement', 727), ('failli', 728), ('faisait', 729), ('faux', 730), ('fgm', 731), ('genre', 732), ('going', 733), ('groupe', 734), ('gt', 735), ('harcelé', 736), ('insulte', 737), (\"j'allais\", 738), ('justice', 739), (\"l'homme\", 740), ('lait', 741), ('loi', 742), (\"m'appelle\", 743), (\"m'avait\", 744), ('mariés', 745), ('menace', 746), ('mensonges', 747), ('musique', 748), (\"n'en\", 749), (\"n'importe\", 750), ('ni', 751), ('now', 752), ('ok', 753), ('ordonne', 754), ('passer', 755), ('passé', 756), ('people', 757), ('pire', 758), ('plainte', 759), ('please', 760), ('pleurer', 761), ('plusieurs', 762), ('porter', 763), ('pouvaient', 764), ('pouvais', 765), ('preuve', 766), ('preuves', 767), ('propriétaire', 768), ('près', 769), (\"qu'elles\", 770), (\"qu'on\", 771), ('quatre', 772), ('questions', 773), ('raciste', 774), ('raconter', 775), ('rape', 776), ('refuse', 777), ('refused', 778), ('regarde', 779), ('religion', 780), ('règles', 781), ('régulièrement', 782), ('répondre', 783), ('révèle', 784), ('rêve', 785), ('rêvé', 786), (\"s'agit\", 787), ('savions', 788), ('savoir', 789), ('says', 790), ('semaines', 791), ('serai', 792), ('serais', 793), ('serait', 794), ('something', 795), ('sorte', 796), ('sortir', 797), ('surpris', 798), ('sympathie', 799), ('terrible', 800), ('then', 801), ('train', 802), ('tôt', 803), ('vieux', 804), ('viole', 805), ('violées', 806), ('volonté', 807), ('voulez', 808), ('wanna', 809), ('wife', 810), ('work', 811), ('would', 812), ('xx', 813), ('year', 814), ('yeux', 815), ('|', 816), ('étions', 817), ('13', 818), ('2020', 819), ('23', 820), ('25', 821), ('3', 822), ('4', 823), ('40', 824), ('46', 825), ('6', 826), ('70', 827), ('9', 828), ('Aam', 829), ('Am', 830), ('As', 831), (\"C'était\", 832), ('COVID-19', 833), ('Cachemire', 834), ('Comme', 835), ('DES', 836), ('DU', 837), ('DV', 838), ('Dans', 839), ('Depuis', 840), ('Des', 841), ('Divorce', 842), ('Dude', 843), ('Eh', 844), ('Facebook', 845), ('Has', 846), ('Hier', 847), ('Hillary', 848), ('Housemate', 849), ('Humiliated', 850), ('If', 851), ('Is', 852), (\"J'aurais\", 853), ('JAMAIS', 854), ('LA', 855), ('LE', 856), ('MA', 857), ('MARIAGE', 858), ('Maintenant', 859), ('Merci', 860), ('NE', 861), ('New', 862), ('No', 863), ('Non', 864), ('Nouveau', 865), ('Noël', 866), ('Pas', 867), ('Personne', 868), ('Peut', 869), ('Plus', 870), ('QUE', 871), ('Reade', 872), ('Royaume', 873), (\"S'il\", 874), ('SIBERIA', 875), ('Sar', 876), ('Selon', 877), ('She', 878), ('So', 879), ('TOUT', 880), ('TRADUCTION', 881), ('Tabitha', 882), ('Tara', 883), ('Twitter', 884), ('Uni', 885), ('Viol', 886), ('We', 887), ('Woman', 888), ('Zambie', 889), ('abri', 890), ('abuse', 891), ('acted', 892), ('adulte', 893), ('agressée', 894), ('aient', 895), ('allé', 896), ('always', 897), ('arme', 898), ('arrangé', 899), ('arrivé', 900), ('assis', 901), ('attendre', 902), ('autour', 903), ('away', 904), ('bad', 905), ('beau', 906), ('bouteille', 907), ('bureau', 908), ('ca', 909), ('carte', 910), ('cas', 911), ('certaines', 912), ('changé', 913), ('chemin', 914), ('chercher', 915), ('choquante', 916), ('collège', 917), ('comes', 918), ('commentaire', 919), ('congé', 920), ('copain', 921), ('corps', 922), ('could', 923), ('coup', 924), ('cour', 925), ('croire', 926), ('cul', 927), ('cœur', 928), (\"d'abord\", 929), (\"d'années\", 930), (\"d'apprendre\", 931), (\"d'honneur\", 932), (\"d'origine\", 933), (\"d'épouser\", 934), ('deuxième', 935), ('devait', 936), ('directeur', 937), ('disait', 938), ('discours', 939), ('discrimination', 940), ('disparaître', 941), ('doit', 942), ('domaine', 943), ('dormais', 944), ('dormir', 945), ('dos', 946), ('douleur', 947), ('drôle', 948), ('début', 949), ('décidé', 950), ('détail', 951), ('elles', 952), ('embauché', 953), ('endroit', 954), ('enfui', 955), ('enlevé', 956), ('ensemble', 957), ('envoyé', 958), ('erreur', 959), ('even', 960), ('excusé', 961), ('expériences', 962), ('factures', 963), ('faites', 964), ('father', 965), ('faute', 966), ('fière', 967), ('fonds', 968), ('forcées', 969), ('forum', 970), ('found', 971), ('frappé', 972), ('fucking', 973), ('fâché', 974), ('fête', 975), ('gai', 976), ('gang', 977), ('garde', 978), ('gay', 979), ('grande', 980), ('gros', 981), ('grosse', 982), ('grossesse', 983), ('guerre', 984), ('help', 985), ('heures', 986), ('home', 987), ('horrible', 988), ('house', 989), ('humiliés', 990), ('imposé', 991), ('insulted', 992), (\"j'aurais\", 993), (\"j'espère\", 994), ('knew', 995), (\"l'IRA\", 996), (\"l'Ohio\", 997), (\"l'habitude\", 998), (\"l'intention\", 999), (\"l'ont\", 1000), ('laisse', 1001), ('laissez', 1002), ('later', 1003), ('law', 1004), ('levée', 1005), ('lire', 1006), ('livre', 1007), ('long', 1008), ('lot', 1009), (\"m'en\", 1010), (\"m'eut\", 1011), ('magasin', 1012), ('married', 1013), ('masculins', 1014), ('matin', 1015), ('mec', 1016), ('meilleur', 1017), ('message', 1018), ('minutes', 1019), ('montrer', 1020), ('more', 1021), ('mots', 1022), ('méchant', 1023), ('méritais', 1024), (\"n'aime\", 1025), (\"n'aurais\", 1026), (\"n'avons\", 1027), ('nombreuses', 1028), ('noms', 1029), ('nothing', 1030), ('nouveau', 1031), ('nouvelles', 1032), ('obtenir', 1033), ('oh', 1034), ('opinion', 1035), ('other', 1036), ('oublier', 1037), ('oublié', 1038), ('own', 1039), ('papa', 1040), ('parfois', 1041), ('parlait', 1042), ('partager', 1043), ('partir', 1044), ('partout', 1045), ('passait', 1046), ('payé', 1047), ('pensent', 1048), ('pensé', 1049), ('perdant', 1050), ('perdre', 1051), ('peuvent', 1052), ('pied', 1053), ('plupart', 1054), ('policiers', 1055), ('porte', 1056), ('poster', 1057), ('pourrais', 1058), ('pourrait', 1059), ('poursuivi', 1060), ('pourtant', 1061), ('presque', 1062), ('privé', 1063), ('problèmes', 1064), ('produit', 1065), ('propos', 1066), ('prostitution', 1067), ('prêt', 1068), ('période', 1069), ('quelle', 1070), ('question', 1071), ('quitté', 1072), ('race', 1073), ('refuge', 1074), ('rejetée', 1075), ('respect', 1076), ('reste', 1077), ('rester', 1078), ('retourner', 1079), ('reçu', 1080), ('répondu', 1081), (\"s'agissait\", 1082), (\"s'en\", 1083), ('sache', 1084), ('salle', 1085), ('savais', 1086), ('sentir', 1087), ('serrures', 1088), ('seul', 1089), ('sexiste', 1090), ('situation', 1091), ('sois', 1092), ('some', 1093), ('sommeil', 1094), ('soutien', 1095), ('souvent', 1096), ('soyez', 1097), ('story', 1098), ('stupide', 1099), ('suffit', 1100), ('suivi', 1101), ('séparer', 1102), ('sœur', 1103), ('thinking', 1104), ('tomber', 1105), ('travaillais', 1106), ('travaille', 1107), ('troisième', 1108), ('trouve', 1109), ('venu', 1110), ('vidéo', 1111), ('vieille', 1112), ('ville', 1113), ('violait', 1114), ('violeurs', 1115), ('vois', 1116), ('voix', 1117), ('vont', 1118), ('vote', 1119), ('vécu', 1120), ('vérifier', 1121), ('vérité', 1122), ('vêtements', 1123), ('way', 1124), ('what', 1125), ('whatever', 1126), ('young', 1127), ('your', 1128), ('État', 1129), ('âgé', 1130), ('énorme', 1131), ('épouser', 1132), ('étant', 1133), ('♀', 1134)])\n"
     ]
    }
   ],
   "source": [
    "# Initialize glove embeddings\n",
    "TEXT.build_vocab(train_data, min_freq=3, vectors = \"glove.6B.100d\")  \n",
    "LABEL.build_vocab(train_data)\n",
    "\n",
    "# No. of unique tokens in text\n",
    "print(\"Size of TEXT vocabulary:\",len(TEXT.vocab))\n",
    "\n",
    "# No. of unique tokens in label\n",
    "print(\"Size of LABEL vocabulary:\",len(LABEL.vocab))\n",
    "\n",
    "# Commonly used words\n",
    "print(\"Commonly used words\", TEXT.vocab.freqs.most_common(10))  \n",
    "\n",
    "# Word dictionary\n",
    "print(\"Word dictionary\", TEXT.vocab.stoi.items())   "
   ]
  },
  {
   "cell_type": "code",
   "execution_count": 12,
   "metadata": {
    "colab": {
     "base_uri": "https://localhost:8080/"
    },
    "id": "UtFZJAVIKGJ7",
    "outputId": "d3c7eab2-3f51-4734-f5a1-0d588e5f5453"
   },
   "outputs": [
    {
     "name": "stdout",
     "output_type": "stream",
     "text": [
      "Help on method build_vocab in module torchtext.legacy.data.field:\n",
      "\n",
      "build_vocab(*args, **kwargs) method of torchtext.legacy.data.field.Field instance\n",
      "    Construct the Vocab object for this field from one or more datasets.\n",
      "    \n",
      "    Arguments:\n",
      "        Positional arguments: Dataset objects or other iterable data\n",
      "            sources from which to construct the Vocab object that\n",
      "            represents the set of possible values for this field. If\n",
      "            a Dataset object is provided, all columns corresponding\n",
      "            to this field are used; individual columns can also be\n",
      "            provided directly.\n",
      "        Remaining keyword arguments: Passed to the constructor of Vocab.\n",
      "\n"
     ]
    }
   ],
   "source": [
    "help(TEXT.build_vocab)"
   ]
  },
  {
   "cell_type": "markdown",
   "metadata": {
    "id": "X3GK-42KW6N-"
   },
   "source": [
    "## Build the model"
   ]
  },
  {
   "cell_type": "code",
   "execution_count": null,
   "metadata": {
    "id": "YjhJaGDoW6N-"
   },
   "outputs": [],
   "source": [
    "import torch.nn as nn\n",
    "\n",
    "class classifier(nn.Module):\n",
    "    \n",
    "    #define all the layers used in model\n",
    "    def __init__(self, vocab_size, embedding_dim, hidden_dim, output_dim, n_layers, \n",
    "                 bidirectional, dropout):\n",
    "        \n",
    "        #Constructor\n",
    "        super().__init__()          \n",
    "        \n",
    "        #embedding layer\n",
    "        self.embedding = nn.Embedding(vocab_size, embedding_dim)\n",
    "        \n",
    "        #lstm layer\n",
    "        self.lstm = nn.LSTM(embedding_dim, \n",
    "                           hidden_dim, \n",
    "                           num_layers=n_layers, \n",
    "                           bidirectional=bidirectional, \n",
    "                           dropout=dropout,\n",
    "                           batch_first=True)\n",
    "        \n",
    "        #dense layer\n",
    "        self.fc = nn.Linear(hidden_dim * 2, output_dim)\n",
    "        \n",
    "        #activation function\n",
    "        self.act = nn.Sigmoid()\n",
    "        \n",
    "    def forward(self, text, text_lengths):\n",
    "        \n",
    "        #text = [batch size,sent_length]\n",
    "        embedded = self.embedding(text)\n",
    "        #embedded = [batch size, sent_len, emb dim]\n",
    "      \n",
    "        #packed sequence\n",
    "        packed_embedded = nn.utils.rnn.pack_padded_sequence(embedded, text_lengths.to(\"cpu\"), batch_first=True)\n",
    "        \n",
    "        packed_output, (hidden, cell) = self.lstm(packed_embedded)\n",
    "        #hidden = [batch size, num layers * num directions,hid dim]\n",
    "        #cell = [batch size, num layers * num directions,hid dim]\n",
    "        \n",
    "        #concat the final forward and backward hidden state\n",
    "        hidden = torch.cat((hidden[-2,:,:], hidden[-1,:,:]), dim = 1)\n",
    "                \n",
    "        #hidden = [batch size, hid dim * num directions]\n",
    "        dense_outputs=self.fc(hidden)\n",
    "\n",
    "        #Final activation function\n",
    "        outputs=self.act(dense_outputs)\n",
    "        \n",
    "        return outputs"
   ]
  },
  {
   "cell_type": "code",
   "execution_count": null,
   "metadata": {
    "id": "n2b1jTd6W6N_"
   },
   "outputs": [],
   "source": [
    "#define hyperparameters\n",
    "size_of_vocab = len(TEXT.vocab)\n",
    "embedding_dim = 100\n",
    "num_hidden_nodes = 32\n",
    "num_output_nodes = 5\n",
    "num_layers = 2\n",
    "bidirection = True\n",
    "dropout = 0.2\n",
    "\n",
    "#instantiate the model\n",
    "model = classifier(size_of_vocab, embedding_dim, num_hidden_nodes,num_output_nodes, num_layers, \n",
    "                   bidirectional = True, dropout = dropout)"
   ]
  },
  {
   "cell_type": "code",
   "execution_count": null,
   "metadata": {
    "colab": {
     "base_uri": "https://localhost:8080/"
    },
    "id": "yDbyDRL5W6N_",
    "outputId": "2c8064ee-59ea-42f1-dc3e-5a9413d17d0a"
   },
   "outputs": [
    {
     "name": "stdout",
     "output_type": "stream",
     "text": [
      "classifier(\n",
      "  (embedding): Embedding(1135, 100)\n",
      "  (lstm): LSTM(100, 32, num_layers=2, batch_first=True, dropout=0.2, bidirectional=True)\n",
      "  (fc): Linear(in_features=64, out_features=5, bias=True)\n",
      "  (act): Sigmoid()\n",
      ")\n",
      "The model has 173,217 trainable parameters\n",
      "torch.Size([1135, 100])\n"
     ]
    }
   ],
   "source": [
    "#architecture\n",
    "print(model)\n",
    "\n",
    "#No. of trianable parameters\n",
    "def count_parameters(model):\n",
    "    return sum(p.numel() for p in model.parameters() if p.requires_grad)\n",
    "    \n",
    "print(f'The model has {count_parameters(model):,} trainable parameters')\n",
    "\n",
    "#Initialize the pretrained embedding\n",
    "pretrained_embeddings = TEXT.vocab.vectors\n",
    "model.embedding.weight.data.copy_(pretrained_embeddings)\n",
    "\n",
    "print(pretrained_embeddings.shape)"
   ]
  },
  {
   "cell_type": "code",
   "execution_count": null,
   "metadata": {
    "id": "OWYVyttfW6OA"
   },
   "outputs": [],
   "source": [
    "import torch.optim as optim\n",
    "\n",
    "#define optimizer and loss\n",
    "optimizer = optim.Adam(model.parameters())\n",
    "criterion = nn.BCELoss()#weight=torch.tensor([0.012145, 0.066683, 0.609063, 1.827189, 2.109043])) \n",
    "\n",
    "#define metric\n",
    "def binary_accuracy(preds, y):\n",
    "    #round predictions to the closest integer\n",
    "    rounded_preds = torch.round(preds)\n",
    "    \n",
    "    correct = (rounded_preds == y).float() \n",
    "    acc = correct.sum() / len(correct)\n",
    "    return acc\n",
    "    \n",
    "#push to cuda if available\n",
    "model = model.to(device)\n",
    "criterion = criterion.to(device)"
   ]
  },
  {
   "cell_type": "code",
   "execution_count": null,
   "metadata": {
    "id": "3XJt8N8FW6OB"
   },
   "outputs": [],
   "source": [
    "def train(model, iterator, optimizer, criterion):\n",
    "    \n",
    "    #initialize every epoch \n",
    "    epoch_loss = 0\n",
    "    epoch_acc = 0\n",
    "    \n",
    "    #set the model in training phase\n",
    "    model.train()  \n",
    "    \n",
    "    for batch in iterator:\n",
    "        \n",
    "        #resets the gradients after every batch\n",
    "        optimizer.zero_grad()   \n",
    "        \n",
    "        #retrieve text and no. of words\n",
    "        text, text_lengths = batch.tweet   \n",
    "        #convert to 1D tensor\n",
    "        predictions = model(text, text_lengths)\n",
    "        \n",
    "        #compute the loss\n",
    "        batch_size = batch.type.shape[0]\n",
    "        target = torch.zeros((batch_size, num_output_nodes))\n",
    "        target[[i for i in range(batch_size)], batch.type.to(\"cpu\").numpy()] = 1.0\n",
    "        target = target.to(device)\n",
    "        \n",
    "        loss = criterion(predictions, target)        \n",
    "        \n",
    "        #compute the binary accuracy\n",
    "        #acc = binary_accuracy(predictions, batch.label)   \n",
    "        \n",
    "        #backpropage the loss and compute the gradients\n",
    "        loss.backward()       \n",
    "        \n",
    "        #update the weights\n",
    "        optimizer.step()      \n",
    "        \n",
    "        #loss and accuracy\n",
    "        epoch_loss += loss.item()  \n",
    "        #epoch_acc += acc.item()    \n",
    "        \n",
    "    return epoch_loss / len(iterator)#, epoch_acc / len(iterator)"
   ]
  },
  {
   "cell_type": "code",
   "execution_count": null,
   "metadata": {
    "id": "T6twCcmnW6OC"
   },
   "outputs": [],
   "source": [
    "def evaluate(model, iterator, criterion):\n",
    "    \n",
    "    #initialize every epoch\n",
    "    epoch_loss = 0\n",
    "    epoch_acc = 0\n",
    "\n",
    "    #deactivating dropout layers\n",
    "    model.eval()\n",
    "    \n",
    "    #deactivates autograd\n",
    "    with torch.no_grad():\n",
    "    \n",
    "        for batch in iterator:\n",
    "        \n",
    "            #retrieve text and no. of words\n",
    "            text, text_lengths = batch.tweet\n",
    "            \n",
    "            #convert to 1d tensor\n",
    "            predictions = model(text, text_lengths)\n",
    "            \n",
    "            #compute the loss\n",
    "            batch_size = batch.type.shape[0]\n",
    "            target = torch.zeros((batch_size, num_output_nodes))\n",
    "            target[[i for i in range(batch_size)], batch.type.to(\"cpu\").numpy()] = 1.0\n",
    "            target = target.to(device)\n",
    "            \n",
    "            #compute loss and accuracy\n",
    "            loss = criterion(predictions, target)        \n",
    "            #acc = binary_accuracy(predictions, batch.label)\n",
    "            \n",
    "            #keep track of loss and accuracy\n",
    "            epoch_loss += loss.item()\n",
    "            #epoch_acc += acc.item()\n",
    "        \n",
    "    return epoch_loss / len(iterator)#, epoch_acc / len(iterator)"
   ]
  },
  {
   "cell_type": "code",
   "execution_count": null,
   "metadata": {
    "colab": {
     "base_uri": "https://localhost:8080/"
    },
    "id": "S1Wgv9LdW6OD",
    "outputId": "41042b1c-c357-4f9e-8b7a-2bb09a06921b"
   },
   "outputs": [
    {
     "name": "stdout",
     "output_type": "stream",
     "text": [
      "EPOCH 0%\n",
      "\tTrain Loss: 0.330%\n",
      "\t Val. Loss: 0.356%\n",
      "EPOCH 1%\n",
      "\tTrain Loss: 0.292%\n",
      "\t Val. Loss: 0.339%\n",
      "EPOCH 2%\n",
      "\tTrain Loss: 0.263%\n",
      "\t Val. Loss: 0.313%\n",
      "EPOCH 3%\n",
      "\tTrain Loss: 0.233%\n",
      "\t Val. Loss: 0.286%\n",
      "EPOCH 4%\n",
      "\tTrain Loss: 0.212%\n",
      "\t Val. Loss: 0.276%\n",
      "EPOCH 5%\n",
      "\tTrain Loss: 0.199%\n",
      "\t Val. Loss: 0.264%\n",
      "EPOCH 6%\n",
      "\tTrain Loss: 0.184%\n",
      "\t Val. Loss: 0.248%\n",
      "EPOCH 7%\n",
      "\tTrain Loss: 0.186%\n",
      "\t Val. Loss: 0.251%\n",
      "EPOCH 8%\n",
      "\tTrain Loss: 0.159%\n",
      "\t Val. Loss: 0.257%\n",
      "EPOCH 9%\n",
      "\tTrain Loss: 0.154%\n",
      "\t Val. Loss: 0.266%\n",
      "EPOCH 10%\n",
      "\tTrain Loss: 0.144%\n",
      "\t Val. Loss: 0.252%\n",
      "EPOCH 11%\n",
      "\tTrain Loss: 0.147%\n",
      "\t Val. Loss: 0.217%\n"
     ]
    }
   ],
   "source": [
    "best_valid_loss = float('inf')\n",
    "\n",
    "train_loss = np.zeros((1, N_EPOCHS))\n",
    "valid_loss = np.zeros((1, N_EPOCHS))\n",
    "\n",
    "for epoch in range(N_EPOCHS):\n",
    "     \n",
    "    #train the model\n",
    "    train_loss[0, epoch] = train(model, train_iterator, optimizer, criterion)\n",
    "    \n",
    "    #evaluate the model\n",
    "    valid_loss[0, epoch] = evaluate(model, valid_iterator, criterion)\n",
    "    \n",
    "    #save the best model\n",
    "    if valid_loss[0, epoch] < best_valid_loss:\n",
    "        best_valid_loss = valid_loss[0, epoch]\n",
    "        torch.save(model.state_dict(), models_folder+'saved_weights('+str(epoch)+').pt')\n",
    "    \n",
    "    print(f\"EPOCH {epoch}%\")\n",
    "    print(f'\\tTrain Loss: {train_loss[0, epoch]:.3f}%')# | Train Acc: {train_acc*100:.2f}%')\n",
    "    print(f'\\t Val. Loss: {valid_loss[0, epoch]:.3f}%')# |  Val. Acc: {valid_acc*100:.2f}%')\n"
   ]
  },
  {
   "cell_type": "code",
   "execution_count": null,
   "metadata": {
    "colab": {
     "base_uri": "https://localhost:8080/",
     "height": 301
    },
    "id": "1Lx40YzdW6OD",
    "outputId": "1a7ddf7d-74c2-4a73-9784-00ff661c3738"
   },
   "outputs": [
    {
     "data": {
      "image/png": "[encoded data removed]",
      "text/plain": [
       "<Figure size 432x288 with 1 Axes>"
      ]
     },
     "metadata": {},
     "output_type": "display_data"
    }
   ],
   "source": [
    "# Plot the complexity graph\n",
    "plt.plot(train_loss[0,:], label = \"train\")\n",
    "plt.plot(valid_loss[0,:], label = \"validation\")\n",
    "plt.xlabel('epoch')\n",
    "# Set the y axis label of the current axis.\n",
    "plt.ylabel('error')\n",
    "# Set a title of the current axes.\n",
    "plt.title('Complexity graph')\n",
    "# show a legend on the plot\n",
    "plt.legend()\n",
    "# Display a figure.\n",
    "plt.show()"
   ]
  },
  {
   "cell_type": "code",
   "execution_count": null,
   "metadata": {
    "id": "9mztMo3YW6OE"
   },
   "outputs": [],
   "source": [
    "#load weights\n",
    "path=models_folder+'saved_weights('+str(N_EPOCH-1)+').pt'\n",
    "model.load_state_dict(torch.load(path));\n",
    "model.eval();\n",
    "\n",
    "#inference \n",
    "import spacy\n",
    "nlp = spacy.load(\"fr_core_news_sm\")\n",
    "\n",
    "CLASS = [\"Sexual violence\", \"Physical violence\", \"Emotional Violence\",\n",
    "         \"Economic Violence\", \"Harmful traditional practice\"]\n",
    "\n",
    "def predict(sentence):\n",
    "    tokenized = [tok.text for tok in nlp.tokenizer(sentence)]  #tokenize the sentence \n",
    "    indexed = [TEXT.vocab.stoi[t] for t in tokenized]          #convert to integer sequence\n",
    "    \n",
    "    length = len(indexed)\n",
    "    length_tensor = torch.LongTensor([length]).to('cpu')\n",
    "    \n",
    "    my_tensor = torch.LongTensor(indexed).to(device)           #convert to tensor\n",
    "    my_tensor = torch.reshape(my_tensor, (1, length))          #reshape in form of batch,no. of words\n",
    "    \n",
    "    prediction = model(my_tensor, length_tensor)               #prediction \n",
    "    i = prediction.argmax().to('cpu').numpy()\n",
    "    \n",
    "    return CLASS[i]"
   ]
  },
  {
   "cell_type": "code",
   "execution_count": null,
   "metadata": {
    "colab": {
     "base_uri": "https://localhost:8080/",
     "height": 35
    },
    "id": "LGrzvVHvW6OE",
    "outputId": "359809e2-71b3-42ce-8fd0-126b111355f7"
   },
   "outputs": [
    {
     "data": {
      "application/vnd.google.colaboratory.intrinsic+json": {
       "type": "string"
      },
      "text/plain": [
       "'Physical violence'"
      ]
     },
     "execution_count": 64,
     "metadata": {},
     "output_type": "execute_result"
    }
   ],
   "source": [
    "# make predictions\n",
    "predict(\"IL m'a oubligé à coucher avec lui\")"
   ]
  }
 ],
 "metadata": {
  "accelerator": "GPU",
  "colab": {
   "collapsed_sections": [
    "yKoL2hXIhqtg",
    "7dzZUWe8W6No",
    "m3cPhuljW6Nr",
    "vj2hhLkhW6Nz",
    "J8r72yIIW6N5",
    "MAuZO8iFW6N6",
    "0WbrDG-XW6N7",
    "X3GK-42KW6N-"
   ],
   "name": "text-classification-using-word2vec(1).ipynb",
   "provenance": []
  },
  "kernelspec": {
   "display_name": "Python 3",
   "language": "python",
   "name": "python3"
  },
  "language_info": {
   "codemirror_mode": {
    "name": "ipython",
    "version": 3
   },
   "file_extension": ".py",
   "mimetype": "text/x-python",
   "name": "python",
   "nbconvert_exporter": "python",
   "pygments_lexer": "ipython3",
   "version": "3.6.9"
  }
 },
 "nbformat": 4,
 "nbformat_minor": 1
}
