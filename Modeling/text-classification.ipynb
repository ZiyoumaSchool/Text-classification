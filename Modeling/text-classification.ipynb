{
 "cells": [
  {
   "cell_type": "markdown",
   "metadata": {
    "id": "tyn3eevxW6Na"
   },
   "source": [
    "# Text classification: We are going to developp a model able to classify text in 6 categories."
   ]
  },
  {
   "cell_type": "markdown",
   "metadata": {
    "id": "hekaCsWFQMdL"
   },
   "source": [
    "# Choose directories"
   ]
  },
  {
   "cell_type": "code",
   "execution_count": 1,
   "metadata": {
    "id": "GPGRNxmxPi33"
   },
   "outputs": [],
   "source": [
    "\"\"\"\n",
    "\n",
    "data_path : concerns the path of the .csv file used as training set\n",
    "models_folder : referes to the folder where the models obtain after each epochs will store.\n",
    "main_folder : refers to folder containing your Train.csv file, the of Dataset folder that \n",
    "N_EPOCHS : is the number of iterations\n",
    "collected_data_path : contains the path of the CollectedDataTrain.csv file.\n",
    "\n",
    "\"\"\"\n",
    "\n",
    "data_path = \"drive/MyDrive/Dataset/text classification/Train.csv\"\n",
    "models_folder = \"drive/MyDrive/Models/text classification/\"\n",
    "main_folder = \"drive/MyDrive/Dataset/text classification/\"\n",
    "N_EPOCHS = 12\n",
    "collected_data_path = \"drive/MyDrive/Dataset/text classification/CollectedDataTrain.csv\""
   ]
  },
  {
   "cell_type": "markdown",
   "metadata": {
    "id": "yKoL2hXIhqtg"
   },
   "source": [
    "## Installation spacy==3.1.0 et fr_code_news_sm pour spacyy"
   ]
  },
  {
   "cell_type": "code",
   "execution_count": 2,
   "metadata": {
    "colab": {
     "base_uri": "https://localhost:8080/"
    },
    "id": "D5lxw_dihjZc",
    "outputId": "c96141ae-8432-4c50-bb80-a9a901daf874"
   },
   "outputs": [
    {
     "name": "stdout",
     "output_type": "stream",
     "text": [
      "Requirement already satisfied: bitarray in /usr/local/lib/python3.7/dist-packages (2.3.4)\n",
      "Requirement already satisfied: fastBPE in /usr/local/lib/python3.7/dist-packages (0.1.0)\n",
      "Requirement already satisfied: hydra-core in /usr/local/lib/python3.7/dist-packages (1.1.1)\n",
      "Requirement already satisfied: omegaconf in /usr/local/lib/python3.7/dist-packages (2.1.1)\n",
      "Requirement already satisfied: regex in /usr/local/lib/python3.7/dist-packages (2019.12.20)\n",
      "Requirement already satisfied: requests in /usr/local/lib/python3.7/dist-packages (2.23.0)\n",
      "Requirement already satisfied: sacremoses in /usr/local/lib/python3.7/dist-packages (0.0.46)\n",
      "Requirement already satisfied: subword_nmt in /usr/local/lib/python3.7/dist-packages (0.3.7)\n",
      "Requirement already satisfied: gradio in /usr/local/lib/python3.7/dist-packages (2.3.6)\n",
      "Requirement already satisfied: spacy==3.1.0 in /usr/local/lib/python3.7/dist-packages (3.1.0)\n",
      "Requirement already satisfied: spacy-legacy<3.1.0,>=3.0.7 in /usr/local/lib/python3.7/dist-packages (from spacy==3.1.0) (3.0.8)\n",
      "Requirement already satisfied: setuptools in /usr/local/lib/python3.7/dist-packages (from spacy==3.1.0) (57.4.0)\n",
      "Requirement already satisfied: typer<0.4.0,>=0.3.0 in /usr/local/lib/python3.7/dist-packages (from spacy==3.1.0) (0.3.2)\n",
      "Requirement already satisfied: numpy>=1.15.0 in /usr/local/lib/python3.7/dist-packages (from spacy==3.1.0) (1.19.5)\n",
      "Requirement already satisfied: tqdm<5.0.0,>=4.38.0 in /usr/local/lib/python3.7/dist-packages (from spacy==3.1.0) (4.62.3)\n",
      "Requirement already satisfied: pydantic!=1.8,!=1.8.1,<1.9.0,>=1.7.4 in /usr/local/lib/python3.7/dist-packages (from spacy==3.1.0) (1.8.2)\n",
      "Requirement already satisfied: srsly<3.0.0,>=2.4.1 in /usr/local/lib/python3.7/dist-packages (from spacy==3.1.0) (2.4.1)\n",
      "Requirement already satisfied: blis<0.8.0,>=0.4.0 in /usr/local/lib/python3.7/dist-packages (from spacy==3.1.0) (0.4.1)\n",
      "Requirement already satisfied: pathy>=0.3.5 in /usr/local/lib/python3.7/dist-packages (from spacy==3.1.0) (0.6.0)\n",
      "Requirement already satisfied: jinja2 in /usr/local/lib/python3.7/dist-packages (from spacy==3.1.0) (2.11.3)\n",
      "Requirement already satisfied: preshed<3.1.0,>=3.0.2 in /usr/local/lib/python3.7/dist-packages (from spacy==3.1.0) (3.0.5)\n",
      "Requirement already satisfied: catalogue<2.1.0,>=2.0.4 in /usr/local/lib/python3.7/dist-packages (from spacy==3.1.0) (2.0.6)\n",
      "Requirement already satisfied: thinc<8.1.0,>=8.0.7 in /usr/local/lib/python3.7/dist-packages (from spacy==3.1.0) (8.0.10)\n",
      "Requirement already satisfied: packaging>=20.0 in /usr/local/lib/python3.7/dist-packages (from spacy==3.1.0) (21.0)\n",
      "Requirement already satisfied: typing-extensions<4.0.0.0,>=3.7.4 in /usr/local/lib/python3.7/dist-packages (from spacy==3.1.0) (3.7.4.3)\n",
      "Requirement already satisfied: cymem<2.1.0,>=2.0.2 in /usr/local/lib/python3.7/dist-packages (from spacy==3.1.0) (2.0.5)\n",
      "Requirement already satisfied: wasabi<1.1.0,>=0.8.1 in /usr/local/lib/python3.7/dist-packages (from spacy==3.1.0) (0.8.2)\n",
      "Requirement already satisfied: murmurhash<1.1.0,>=0.28.0 in /usr/local/lib/python3.7/dist-packages (from spacy==3.1.0) (1.0.5)\n",
      "Requirement already satisfied: idna<3,>=2.5 in /usr/local/lib/python3.7/dist-packages (from requests) (2.10)\n",
      "Requirement already satisfied: certifi>=2017.4.17 in /usr/local/lib/python3.7/dist-packages (from requests) (2021.5.30)\n",
      "Requirement already satisfied: chardet<4,>=3.0.2 in /usr/local/lib/python3.7/dist-packages (from requests) (3.0.4)\n",
      "Requirement already satisfied: urllib3!=1.25.0,!=1.25.1,<1.26,>=1.21.1 in /usr/local/lib/python3.7/dist-packages (from requests) (1.24.3)\n",
      "Requirement already satisfied: zipp>=0.5 in /usr/local/lib/python3.7/dist-packages (from catalogue<2.1.0,>=2.0.4->spacy==3.1.0) (3.5.0)\n",
      "Requirement already satisfied: pyparsing>=2.0.2 in /usr/local/lib/python3.7/dist-packages (from packaging>=20.0->spacy==3.1.0) (2.4.7)\n",
      "Requirement already satisfied: smart-open<6.0.0,>=5.0.0 in /usr/local/lib/python3.7/dist-packages (from pathy>=0.3.5->spacy==3.1.0) (5.2.1)\n",
      "Requirement already satisfied: click<7.2.0,>=7.1.1 in /usr/local/lib/python3.7/dist-packages (from typer<0.4.0,>=0.3.0->spacy==3.1.0) (7.1.2)\n",
      "Requirement already satisfied: antlr4-python3-runtime==4.8 in /usr/local/lib/python3.7/dist-packages (from hydra-core) (4.8)\n",
      "Requirement already satisfied: importlib-resources in /usr/local/lib/python3.7/dist-packages (from hydra-core) (5.2.2)\n",
      "Requirement already satisfied: PyYAML>=5.1.0 in /usr/local/lib/python3.7/dist-packages (from omegaconf) (5.4.1)\n",
      "Requirement already satisfied: joblib in /usr/local/lib/python3.7/dist-packages (from sacremoses) (1.0.1)\n",
      "Requirement already satisfied: six in /usr/local/lib/python3.7/dist-packages (from sacremoses) (1.15.0)\n",
      "Requirement already satisfied: markdown2 in /usr/local/lib/python3.7/dist-packages (from gradio) (2.4.1)\n",
      "Requirement already satisfied: paramiko in /usr/local/lib/python3.7/dist-packages (from gradio) (2.7.2)\n",
      "Requirement already satisfied: Flask>=1.1.1 in /usr/local/lib/python3.7/dist-packages (from gradio) (1.1.4)\n",
      "Requirement already satisfied: matplotlib in /usr/local/lib/python3.7/dist-packages (from gradio) (3.2.2)\n",
      "Requirement already satisfied: analytics-python in /usr/local/lib/python3.7/dist-packages (from gradio) (1.4.0)\n",
      "Requirement already satisfied: Flask-Cors>=3.0.8 in /usr/local/lib/python3.7/dist-packages (from gradio) (3.0.10)\n",
      "Requirement already satisfied: flask-cachebuster in /usr/local/lib/python3.7/dist-packages (from gradio) (1.0.0)\n",
      "Requirement already satisfied: pandas in /usr/local/lib/python3.7/dist-packages (from gradio) (1.1.5)\n",
      "Requirement already satisfied: ffmpy in /usr/local/lib/python3.7/dist-packages (from gradio) (0.3.0)\n",
      "Requirement already satisfied: scipy in /usr/local/lib/python3.7/dist-packages (from gradio) (1.4.1)\n",
      "Requirement already satisfied: pycryptodome in /usr/local/lib/python3.7/dist-packages (from gradio) (3.10.4)\n",
      "Requirement already satisfied: pillow in /usr/local/lib/python3.7/dist-packages (from gradio) (7.1.2)\n",
      "Requirement already satisfied: Flask-Login in /usr/local/lib/python3.7/dist-packages (from gradio) (0.5.0)\n",
      "Requirement already satisfied: itsdangerous<2.0,>=0.24 in /usr/local/lib/python3.7/dist-packages (from Flask>=1.1.1->gradio) (1.1.0)\n",
      "Requirement already satisfied: Werkzeug<2.0,>=0.15 in /usr/local/lib/python3.7/dist-packages (from Flask>=1.1.1->gradio) (1.0.1)\n",
      "Requirement already satisfied: MarkupSafe>=0.23 in /usr/local/lib/python3.7/dist-packages (from jinja2->spacy==3.1.0) (2.0.1)\n",
      "Requirement already satisfied: monotonic>=1.5 in /usr/local/lib/python3.7/dist-packages (from analytics-python->gradio) (1.6)\n",
      "Requirement already satisfied: python-dateutil>2.1 in /usr/local/lib/python3.7/dist-packages (from analytics-python->gradio) (2.8.2)\n",
      "Requirement already satisfied: backoff==1.10.0 in /usr/local/lib/python3.7/dist-packages (from analytics-python->gradio) (1.10.0)\n",
      "Requirement already satisfied: cycler>=0.10 in /usr/local/lib/python3.7/dist-packages (from matplotlib->gradio) (0.10.0)\n",
      "Requirement already satisfied: kiwisolver>=1.0.1 in /usr/local/lib/python3.7/dist-packages (from matplotlib->gradio) (1.3.2)\n",
      "Requirement already satisfied: pytz>=2017.2 in /usr/local/lib/python3.7/dist-packages (from pandas->gradio) (2018.9)\n",
      "Requirement already satisfied: pynacl>=1.0.1 in /usr/local/lib/python3.7/dist-packages (from paramiko->gradio) (1.4.0)\n",
      "Requirement already satisfied: bcrypt>=3.1.3 in /usr/local/lib/python3.7/dist-packages (from paramiko->gradio) (3.2.0)\n",
      "Requirement already satisfied: cryptography>=2.5 in /usr/local/lib/python3.7/dist-packages (from paramiko->gradio) (35.0.0)\n",
      "Requirement already satisfied: cffi>=1.1 in /usr/local/lib/python3.7/dist-packages (from bcrypt>=3.1.3->paramiko->gradio) (1.14.6)\n",
      "Requirement already satisfied: pycparser in /usr/local/lib/python3.7/dist-packages (from cffi>=1.1->bcrypt>=3.1.3->paramiko->gradio) (2.20)\n",
      "Collecting fr-core-news-sm==3.1.0\n",
      "  Downloading https://github.com/explosion/spacy-models/releases/download/fr_core_news_sm-3.1.0/fr_core_news_sm-3.1.0-py3-none-any.whl (17.1 MB)\n",
      "\u001b[K     |████████████████████████████████| 17.1 MB 83 kB/s \n",
      "\u001b[?25hRequirement already satisfied: spacy<3.2.0,>=3.1.0 in /usr/local/lib/python3.7/dist-packages (from fr-core-news-sm==3.1.0) (3.1.0)\n",
      "Requirement already satisfied: typing-extensions<4.0.0.0,>=3.7.4 in /usr/local/lib/python3.7/dist-packages (from spacy<3.2.0,>=3.1.0->fr-core-news-sm==3.1.0) (3.7.4.3)\n",
      "Requirement already satisfied: preshed<3.1.0,>=3.0.2 in /usr/local/lib/python3.7/dist-packages (from spacy<3.2.0,>=3.1.0->fr-core-news-sm==3.1.0) (3.0.5)\n",
      "Requirement already satisfied: srsly<3.0.0,>=2.4.1 in /usr/local/lib/python3.7/dist-packages (from spacy<3.2.0,>=3.1.0->fr-core-news-sm==3.1.0) (2.4.1)\n",
      "Requirement already satisfied: wasabi<1.1.0,>=0.8.1 in /usr/local/lib/python3.7/dist-packages (from spacy<3.2.0,>=3.1.0->fr-core-news-sm==3.1.0) (0.8.2)\n",
      "Requirement already satisfied: typer<0.4.0,>=0.3.0 in /usr/local/lib/python3.7/dist-packages (from spacy<3.2.0,>=3.1.0->fr-core-news-sm==3.1.0) (0.3.2)\n",
      "Requirement already satisfied: cymem<2.1.0,>=2.0.2 in /usr/local/lib/python3.7/dist-packages (from spacy<3.2.0,>=3.1.0->fr-core-news-sm==3.1.0) (2.0.5)\n",
      "Requirement already satisfied: thinc<8.1.0,>=8.0.7 in /usr/local/lib/python3.7/dist-packages (from spacy<3.2.0,>=3.1.0->fr-core-news-sm==3.1.0) (8.0.10)\n",
      "Requirement already satisfied: blis<0.8.0,>=0.4.0 in /usr/local/lib/python3.7/dist-packages (from spacy<3.2.0,>=3.1.0->fr-core-news-sm==3.1.0) (0.4.1)\n",
      "Requirement already satisfied: setuptools in /usr/local/lib/python3.7/dist-packages (from spacy<3.2.0,>=3.1.0->fr-core-news-sm==3.1.0) (57.4.0)\n",
      "Requirement already satisfied: pydantic!=1.8,!=1.8.1,<1.9.0,>=1.7.4 in /usr/local/lib/python3.7/dist-packages (from spacy<3.2.0,>=3.1.0->fr-core-news-sm==3.1.0) (1.8.2)\n",
      "Requirement already satisfied: murmurhash<1.1.0,>=0.28.0 in /usr/local/lib/python3.7/dist-packages (from spacy<3.2.0,>=3.1.0->fr-core-news-sm==3.1.0) (1.0.5)\n",
      "Requirement already satisfied: jinja2 in /usr/local/lib/python3.7/dist-packages (from spacy<3.2.0,>=3.1.0->fr-core-news-sm==3.1.0) (2.11.3)\n",
      "Requirement already satisfied: requests<3.0.0,>=2.13.0 in /usr/local/lib/python3.7/dist-packages (from spacy<3.2.0,>=3.1.0->fr-core-news-sm==3.1.0) (2.23.0)\n",
      "Requirement already satisfied: spacy-legacy<3.1.0,>=3.0.7 in /usr/local/lib/python3.7/dist-packages (from spacy<3.2.0,>=3.1.0->fr-core-news-sm==3.1.0) (3.0.8)\n",
      "Requirement already satisfied: tqdm<5.0.0,>=4.38.0 in /usr/local/lib/python3.7/dist-packages (from spacy<3.2.0,>=3.1.0->fr-core-news-sm==3.1.0) (4.62.3)\n",
      "Requirement already satisfied: numpy>=1.15.0 in /usr/local/lib/python3.7/dist-packages (from spacy<3.2.0,>=3.1.0->fr-core-news-sm==3.1.0) (1.19.5)\n",
      "Requirement already satisfied: catalogue<2.1.0,>=2.0.4 in /usr/local/lib/python3.7/dist-packages (from spacy<3.2.0,>=3.1.0->fr-core-news-sm==3.1.0) (2.0.6)\n",
      "Requirement already satisfied: pathy>=0.3.5 in /usr/local/lib/python3.7/dist-packages (from spacy<3.2.0,>=3.1.0->fr-core-news-sm==3.1.0) (0.6.0)\n",
      "Requirement already satisfied: packaging>=20.0 in /usr/local/lib/python3.7/dist-packages (from spacy<3.2.0,>=3.1.0->fr-core-news-sm==3.1.0) (21.0)\n",
      "Requirement already satisfied: zipp>=0.5 in /usr/local/lib/python3.7/dist-packages (from catalogue<2.1.0,>=2.0.4->spacy<3.2.0,>=3.1.0->fr-core-news-sm==3.1.0) (3.5.0)\n",
      "Requirement already satisfied: pyparsing>=2.0.2 in /usr/local/lib/python3.7/dist-packages (from packaging>=20.0->spacy<3.2.0,>=3.1.0->fr-core-news-sm==3.1.0) (2.4.7)\n",
      "Requirement already satisfied: smart-open<6.0.0,>=5.0.0 in /usr/local/lib/python3.7/dist-packages (from pathy>=0.3.5->spacy<3.2.0,>=3.1.0->fr-core-news-sm==3.1.0) (5.2.1)\n",
      "Requirement already satisfied: urllib3!=1.25.0,!=1.25.1,<1.26,>=1.21.1 in /usr/local/lib/python3.7/dist-packages (from requests<3.0.0,>=2.13.0->spacy<3.2.0,>=3.1.0->fr-core-news-sm==3.1.0) (1.24.3)\n",
      "Requirement already satisfied: certifi>=2017.4.17 in /usr/local/lib/python3.7/dist-packages (from requests<3.0.0,>=2.13.0->spacy<3.2.0,>=3.1.0->fr-core-news-sm==3.1.0) (2021.5.30)\n",
      "Requirement already satisfied: chardet<4,>=3.0.2 in /usr/local/lib/python3.7/dist-packages (from requests<3.0.0,>=2.13.0->spacy<3.2.0,>=3.1.0->fr-core-news-sm==3.1.0) (3.0.4)\n",
      "Requirement already satisfied: idna<3,>=2.5 in /usr/local/lib/python3.7/dist-packages (from requests<3.0.0,>=2.13.0->spacy<3.2.0,>=3.1.0->fr-core-news-sm==3.1.0) (2.10)\n",
      "Requirement already satisfied: click<7.2.0,>=7.1.1 in /usr/local/lib/python3.7/dist-packages (from typer<0.4.0,>=0.3.0->spacy<3.2.0,>=3.1.0->fr-core-news-sm==3.1.0) (7.1.2)\n",
      "Requirement already satisfied: MarkupSafe>=0.23 in /usr/local/lib/python3.7/dist-packages (from jinja2->spacy<3.2.0,>=3.1.0->fr-core-news-sm==3.1.0) (2.0.1)\n",
      "\u001b[38;5;2m✔ Download and installation successful\u001b[0m\n",
      "You can now load the package via spacy.load('fr_core_news_sm')\n"
     ]
    }
   ],
   "source": [
    "#%pip install torch==1.7.1 torchvision==0.8.2 torchaudio==0.7.2 torchtext==0.8\n",
    "%pip install bitarray fastBPE hydra-core omegaconf regex requests sacremoses subword_nmt gradio spacy==3.1.0\n",
    "!python -m spacy download fr_core_news_sm"
   ]
  },
  {
   "cell_type": "markdown",
   "metadata": {
    "id": "BRVLDCZdW6Nj"
   },
   "source": [
    "## Import"
   ]
  },
  {
   "cell_type": "code",
   "execution_count": 3,
   "metadata": {
    "id": "KbVEnLjLW6Nk"
   },
   "outputs": [],
   "source": [
    "import os\n",
    "import torch\n",
    "from torchtext.legacy import data\n",
    "import seaborn as sns\n",
    "import matplotlib.pyplot as plt\n",
    "import pandas as pd\n",
    "import numpy as np\n",
    "import random\n"
   ]
  },
  {
   "cell_type": "code",
   "execution_count": 4,
   "metadata": {
    "colab": {
     "base_uri": "https://localhost:8080/"
    },
    "id": "av5SprrHt1MN",
    "outputId": "efb131da-345c-4cdd-c729-a2f653706490"
   },
   "outputs": [
    {
     "name": "stdout",
     "output_type": "stream",
     "text": [
      "Drive already mounted at /content/drive; to attempt to forcibly remount, call drive.mount(\"/content/drive\", force_remount=True).\n"
     ]
    }
   ],
   "source": [
    "from google.colab import drive\n",
    "drive.mount('/content/drive')"
   ]
  },
  {
   "cell_type": "markdown",
   "metadata": {
    "id": "7dzZUWe8W6No"
   },
   "source": [
    "## Reproducibility"
   ]
  },
  {
   "cell_type": "code",
   "execution_count": 5,
   "metadata": {
    "id": "7XB-8h_hW6Nq"
   },
   "outputs": [],
   "source": [
    "SEED = 2021\n",
    "\n",
    "def reproducibility(seed=2021):\n",
    "    \n",
    "    # seed for random, os, numpy and torch librayr\n",
    "    random.seed(seed)\n",
    "    os.environ['PYTHONHASHSEED'] = str(seed)\n",
    "    np.random.seed(seed)\n",
    "    torch.manual_seed(seed)\n",
    "    \n",
    "    # seed fo cuda\n",
    "    torch.cuda.manual_seed(seed)\n",
    "    torch.backends.cudnn.deterministic = True\n",
    "    torch.backends.cudnn.benchmark = False\n",
    "\n",
    "reproducibility(SEED)"
   ]
  },
  {
   "cell_type": "markdown",
   "metadata": {
    "id": "m3cPhuljW6Nr"
   },
   "source": [
    "## EDA"
   ]
  },
  {
   "cell_type": "code",
   "execution_count": 6,
   "metadata": {
    "colab": {
     "base_uri": "https://localhost:8080/",
     "height": 504
    },
    "id": "Mqzo-wbOW6Nt",
    "outputId": "b389001b-8c4d-4726-a834-43579cb133dc"
   },
   "outputs": [
    {
     "name": "stderr",
     "output_type": "stream",
     "text": [
      "No handles with labels found to put in legend.\n"
     ]
    },
    {
     "data": {
      "image/png": "[encoded data removed]",
      "text/plain": [
       "<Figure size 576x360 with 1 Axes>"
      ]
     },
     "metadata": {},
     "output_type": "display_data"
    }
   ],
   "source": [
    "donnees = pd.read_csv(data_path, index_col=\"Tweet_ID\")\n",
    "\n",
    "sns.set_style(\"dark\")\n",
    "sns.set_context(\"notebook\")\n",
    "plt.figure(figsize=(8, 5))\n",
    "plt.subplot(111)\n",
    "sns.countplot(data=donnees, x=\"type\")\n",
    "plt.xticks(rotation=90)\n",
    "plt.legend(loc=\"upper right\")\n",
    "plt.show()"
   ]
  },
  {
   "cell_type": "code",
   "execution_count": 7,
   "metadata": {
    "colab": {
     "base_uri": "https://localhost:8080/"
    },
    "id": "JBS_O51jW6Nu",
    "outputId": "005e695c-5fb7-49c1-84e9-466988d57471"
   },
   "outputs": [
    {
     "data": {
      "text/plain": [
       "sexual_violence                 32648\n",
       "Physical_violence                5946\n",
       "emotional_violence                651\n",
       "economic_violence                 217\n",
       "Harmful_Traditional_practice      188\n",
       "Name: type, dtype: int64"
      ]
     },
     "execution_count": 7,
     "metadata": {},
     "output_type": "execute_result"
    }
   ],
   "source": [
    "num_data_per_class = donnees[\"type\"].value_counts()\n",
    "num_data_per_class"
   ]
  },
  {
   "cell_type": "code",
   "execution_count": 8,
   "metadata": {
    "colab": {
     "base_uri": "https://localhost:8080/"
    },
    "id": "rk89AiZ2W6Nw",
    "outputId": "ae8bd7a1-6ba0-48fa-edbf-6fb33739bbae"
   },
   "outputs": [
    {
     "data": {
      "text/plain": [
       "sexual_violence                 82.340479\n",
       "Physical_violence               14.996217\n",
       "emotional_violence               1.641866\n",
       "economic_violence                0.547289\n",
       "Harmful_Traditional_practice     0.474149\n",
       "Name: type, dtype: float64"
      ]
     },
     "execution_count": 8,
     "metadata": {},
     "output_type": "execute_result"
    }
   ],
   "source": [
    "percentage_data_per_class = 100*donnees[\"type\"].value_counts()/donnees.shape[0]\n",
    "percentage_data_per_class"
   ]
  },
  {
   "cell_type": "code",
   "execution_count": 9,
   "metadata": {
    "colab": {
     "base_uri": "https://localhost:8080/"
    },
    "id": "VZTU8IAFW6Ny",
    "outputId": "6070d648-c2f6-4cb2-9564-139216f9e16a"
   },
   "outputs": [
    {
     "data": {
      "text/plain": [
       "sexual_violence                 0.012145\n",
       "Physical_violence               0.066683\n",
       "emotional_violence              0.609063\n",
       "economic_violence               1.827189\n",
       "Harmful_Traditional_practice    2.109043\n",
       "Name: type, dtype: float64"
      ]
     },
     "execution_count": 9,
     "metadata": {},
     "output_type": "execute_result"
    }
   ],
   "source": [
    "1 / (100*donnees[\"type\"].value_counts()/donnees.shape[0])"
   ]
  },
  {
   "cell_type": "markdown",
   "metadata": {
    "id": "vj2hhLkhW6Nz"
   },
   "source": [
    "## Resampling"
   ]
  },
  {
   "cell_type": "code",
   "execution_count": 10,
   "metadata": {
    "id": "1Daq78J_W6N0"
   },
   "outputs": [],
   "source": [
    "labels = [\"sexual_violence\", \"Physical_violence\", \"emotional_violence\",\n",
    "         \"economic_violence\", \"Harmful_Traditional_practice\"]"
   ]
  },
  {
   "cell_type": "markdown",
   "metadata": {
    "id": "_vj0r1PtW6N1"
   },
   "source": [
    "## For generate french dataset"
   ]
  },
  {
   "cell_type": "code",
   "execution_count": null,
   "metadata": {
    "id": "Ftn_a7iELKJQ"
   },
   "outputs": [],
   "source": [
    "# Load an En-Fr Transformer model trained on WMT'14 data :\n",
    "en2fr = torch.hub.load('pytorch/fairseq:v0.10.2', 'transformer.wmt14.en-fr', tokenizer='moses', bpe='subword_nmt')\n",
    "\n",
    "# Use the GPU (optional):\n",
    "en2fr.cuda()"
   ]
  },
  {
   "cell_type": "code",
   "execution_count": null,
   "metadata": {
    "id": "EH0LxUw-W6N4"
   },
   "outputs": [],
   "source": [
    "import math\n",
    "percent = 0.7\n",
    "\n",
    "new_train_data = pd.concat([donnees.loc[donnees[\"type\"]==t, :].sample(130) for t in labels]\n",
    "                , axis=0)\n",
    "\n",
    "new_valid_data = pd.concat([donnees.loc[donnees[\"type\"]==t, :].sample(58) for t in labels]\n",
    "                , axis=0)\n",
    "\n",
    "new_train_data[\"tweet\"] = pd.DataFrame(new_train_data[\"tweet\"].apply(lambda x:  en2fr.translate(x)))\n",
    "new_valid_data[\"tweet\"] = pd.DataFrame(new_valid_data[\"tweet\"].apply(lambda x:  en2fr.translate(x)))\n",
    "\n",
    "new_train_data.to_csv(main_folder+\"new_train.csv\")\n",
    "new_valid_data.to_csv(main_folder+\"new_valid.csv\")"
   ]
  },
  {
   "cell_type": "markdown",
   "metadata": {
    "id": "J8r72yIIW6N5"
   },
   "source": [
    "## Preprocessing"
   ]
  },
  {
   "cell_type": "code",
   "execution_count": 12,
   "metadata": {
    "colab": {
     "base_uri": "https://localhost:8080/"
    },
    "id": "Fh84IT4OW6N5",
    "outputId": "e60104fc-de5d-4bd5-fe77-ff628a2900c8"
   },
   "outputs": [
    {
     "name": "stderr",
     "output_type": "stream",
     "text": [
      "/usr/local/lib/python3.7/dist-packages/torchtext/data/utils.py:123: UserWarning: Spacy model \"fr\" could not be loaded, trying \"fr_core_news_sm\" instead\n",
      "  warnings.warn(f'Spacy model \"{language}\" could not be loaded, trying \"{OLD_MODEL_SHORTCUTS[language]}\" instead')\n"
     ]
    },
    {
     "name": "stdout",
     "output_type": "stream",
     "text": [
      "{'tweet': ['Je', 'vois', 'maintenant', 'à', 'quel', 'point', 'il', 'était', 'manipulateur', 'et', 'à', 'quel', 'point', 'toutes', 'les', 'relations', 'depuis', 'ont', 'été', 'affectées', 'par', 'la', 'façon', 'dont', 'il', \"m'\", 'a', 'traumatisé', '.', 'Je', 'ne', 'peux', 'pas', 'dormir', 'à', 'côté', 'des', 'gens', 'de', 'peur', 'd', '\"', 'être', 'violée', 'dans', 'mon', 'sommeil', '.'], 'type': 'sexual_violence'}\n"
     ]
    }
   ],
   "source": [
    "# Now, let us see how to preprocess the text using field objects.\n",
    "# There are 2 different types of field objects – Field and LabelField.\n",
    "# Field concern the preprocessing tehcnics to apply on text ans LabelField concern ones toapply for Label.\n",
    "\n",
    "TEXT = data.Field(tokenize='spacy', tokenizer_language='fr', batch_first=True, include_lengths=True)\n",
    "LABEL = data.LabelField()\n",
    "\n",
    "# This variable is used to read file data.\n",
    "fields = [('Tweet_ID',None), ('tweet',TEXT), ('type', LABEL)]\n",
    "\n",
    "# Loading custom dataset    \n",
    "train_data=data.TabularDataset(path = 'drive/MyDrive/Dataset/text classification/new_train.csv'\n",
    "                                  ,format = 'csv', fields = fields, skip_header = True)\n",
    "valid_data=data.TabularDataset(path = 'drive/MyDrive/Dataset/text classification/new_valid.csv'\n",
    "                                  ,format = 'csv', fields = fields, skip_header = True)\n",
    "\n",
    "# Print preprocessed text\n",
    "print(vars(train_data.examples[0]))"
   ]
  },
  {
   "cell_type": "markdown",
   "metadata": {
    "id": "MAuZO8iFW6N6"
   },
   "source": [
    "## Split data to train and validation set "
   ]
  },
  {
   "cell_type": "code",
   "execution_count": 13,
   "metadata": {
    "id": "gZnpuDhFW6N7"
   },
   "outputs": [],
   "source": [
    "# Check whether cuda is available\n",
    "device = torch.device('cuda' if torch.cuda.is_available() else 'cpu')  \n",
    "\n",
    "# Set batch size\n",
    "BATCH_SIZE = 64\n",
    "\n",
    "# Load iterators\n",
    "train_iterator, valid_iterator = data.BucketIterator.splits(\n",
    "    (train_data, valid_data),\n",
    "    batch_size = BATCH_SIZE,\n",
    "    sort_key = lambda x: len(x.tweet),\n",
    "    sort_within_batch=True,\n",
    "    device = device)"
   ]
  },
  {
   "cell_type": "markdown",
   "metadata": {
    "id": "0WbrDG-XW6N7"
   },
   "source": [
    "## Preparing input and output sequences"
   ]
  },
  {
   "cell_type": "code",
   "execution_count": 14,
   "metadata": {
    "colab": {
     "base_uri": "https://localhost:8080/"
    },
    "id": "7agRN0dCW6N9",
    "outputId": "8c1facb3-10b0-4a2e-ccac-e80b15a68e58"
   },
   "outputs": [
    {
     "name": "stdout",
     "output_type": "stream",
     "text": [
      "Size of TEXT vocabulary: 1132\n",
      "Size of LABEL vocabulary: 5\n",
      "Commonly used words [('.', 1033), (',', 870), ('de', 719), ('a', 556), ('que', 486), ('et', 431), ('\"', 377), ('il', 376), ('à', 367), ('me', 342)]\n",
      "Word dictionary dict_items([('<unk>', 0), ('<pad>', 1), ('.', 2), (',', 3), ('de', 4), ('a', 5), ('que', 6), ('et', 7), ('\"', 8), ('il', 9), ('à', 10), ('me', 11), ('la', 12), ('ai', 13), ('un', 14), ('je', 15), ('pas', 16), (\"d'\", 17), ('est', 18), (\"qu'\", 19), ('une', 20), ('le', 21), (\"m'\", 22), (\"j'\", 23), ('des', 24), ('en', 25), ('ne', 26), ('les', 27), (\"l'\", 28), ('mon', 29), ('-', 30), ('pour', 31), ('été', 32), ('Je', 33), ('qui', 34), ('parce', 35), (\"J'\", 36), ('femme', 37), (\"n'\", 38), ('dans', 39), ('dit', 40), ('public', 41), ('vous', 42), ('I', 43), (':', 44), ('mari', 45), ('!', 46), ('au', 47), ('Il', 48), ('ce', 49), ('suis', 50), ('?', 51), ('mais', 52), ('était', 53), ('avec', 54), ('...', 55), ('être', 56), (\"s'\", 57), ('ans', 58), ('étais', 59), ('bat', 60), ('lui', 61), ('comme', 62), ('si', 63), ('elle', 64), ('avoir', 65), (\"c'\", 66), ('plus', 67), ('son', 68), ('Mon', 69), ('fait', 70), ('violée', 71), ('*', 72), ('du', 73), ('moi', 74), (')', 75), ('ont', 76), ('to', 77), ('(', 78), ('avait', 79), ('se', 80), (';', 81), ('my', 82), ('and', 83), ('enfants', 84), ('congédiée', 85), ('ma', 86), ('femmes', 87), ('sur', 88), ('emploi', 89), ('congédié', 90), ('faire', 91), ('was', 92), ('the', 93), ('avais', 94), ('par', 95), ('insulté', 96), ('y', 97), ('in', 98), ('mutilation', 99), ('ou', 100), ('quand', 101), ('sont', 102), ('&', 103), ('travail', 104), ('he', 105), ('ils', 106), ('jamais', 107), ('génitale', 108), ('même', 109), ('nous', 110), ('on', 111), ('/', 112), ('as', 113), ('gens', 114), ('mes', 115), ('sa', 116), ('tout', 117), ('amp', 118), ('féminine', 119), ('où', 120), (\"C'\", 121), ('subir', 122), ('violé', 123), ('humilié', 124), ('mariage', 125), ('My', 126), ('i', 127), ('patron', 128), ('aux', 129), ('that', 130), ('eu', 131), ('homme', 132), ('Me', 133), ('dire', 134), ('filles', 135), ('fois', 136), ('j', 137), ('cela', 138), ('of', 139), ('cette', 140), ('tous', 141), ('..', 142), ('après', 143), ('avez', 144), ('besoin', 145), ('for', 146), ('mariages', 147), ('Le', 148), ('Les', 149), ('d', 150), ('génitales', 151), ('mutilations', 152), ('mère', 153), ('pourquoi', 154), ('t', 155), ('alors', 156), ('aussi', 157), ('dont', 158), ('it', 159), ('maintenant', 160), ('pendant', 161), (\"quelqu'\", 162), ('ces', 163), ('chose', 164), ('enfant', 165), ('jour', 166), ('relations', 167), ('ses', 168), ('votre', 169), ('ça', 170), ('Une', 171), ('because', 172), ('deux', 173), ('is', 174), ('peut', 175), ('sexuelles', 176), ('with', 177), ('-ce', 178), ('cause', 179), ('comment', 180), ('fille', 181), ('forcé', 182), ('personne', 183), ('soit', 184), ('you', 185), ('-vous', 186), ('Husband', 187), ('Mais', 188), ('Un', 189), ('demandé', 190), ('l', 191), ('n', 192), ('non', 193), ('toujours', 194), ('-moi', 195), ('Elle', 196), ('autre', 197), ('autres', 198), ('féminines', 199), ('hommes', 200), ('leur', 201), ('temps', 202), ('u', 203), ('Beats', 204), ('Nous', 205), ('Si', 206), ('façon', 207), ('histoire', 208), ('peux', 209), ('voir', 210), ('vraiment', 211), ('âge', 212), ('A', 213), ('beats', 214), ('but', 215), ('encore', 216), ('forcée', 217), ('gars', 218), ('mettre', 219), ('s', 220), ('seulement', 221), ('simplement', 222), ('sujet', 223), ('En', 224), ('La', 225), ('MGF', 226), ('at', 227), ('devrait', 228), ('m', 229), ('sans', 230), ('so', 231), ('très', 232), ('vie', 233), ('Et', 234), ('années', 235), ('bien', 236), ('fin', 237), ('forcés', 238), ('husband', 239), ('là', 240), ('mois', 241), ('père', 242), ('sais', 243), ('tellement', 244), ('-il', 245), ('He', 246), (\"L'\", 247), ('cet', 248), ('from', 249), ('have', 250), ('pense', 251), ('raison', 252), ('she', 253), ('tant', 254), ('trop', 255), ('woman', 256), ('À', 257), ('....', 258), ('16', 259), ('2', 260), ('avant', 261), ('avons', 262), ('choses', 263), ('compte', 264), ('contre', 265), ('doivent', 266), ('eux', 267), ('had', 268), ('parlé', 269), ('pays', 270), ('peu', 271), ('problème', 272), ('quelque', 273), ('refusé', 274), ('rien', 275), ('subissent', 276), ('this', 277), ('toutes', 278), ('veux', 279), ('viol', 280), ('violeur', 281), ('%', 282), ('Ils', 283), ('all', 284), ('ami', 285), ('aurais', 286), ('bonne', 287), ('déjà', 288), ('espère', 289), ('him', 290), ('his', 291), ('jeune', 292), ('job', 293), ('maison', 294), ('mal', 295), ('monde', 296), ('out', 297), ('parler', 298), ('perdu', 299), ('personnes', 300), ('pris', 301), ('publique', 302), ('tard', 303), ('they', 304), ('want', 305), ('1', 306), ('Ce', 307), ('DE', 308), ('In', 309), ('Ma', 310), ('Vous', 311), ('assez', 312), ('beaucoup', 313), ('bon', 314), ('depuis', 315), ('dernière', 316), ('différence', 317), ('enceinte', 318), ('famille', 319), ('fired', 320), ('her', 321), ('humiliée', 322), ('just', 323), ('juste', 324), ('notre', 325), ('parents', 326), ('part', 327), ('peur', 328), ('point', 329), ('premier', 330), ('quoi', 331), ('raped', 332), ('rapports', 333), ('sexuels', 334), ('toute', 335), ('tribunal', 336), ('trois', 337), ('type', 338), ('va', 339), ('when', 340), (\"'\", 341), ('11', 342), ('12', 343), ('Alors', 344), ('Cameroun', 345), (\"I'\", 346), ('Parce', 347), ('Pour', 348), ('Trump', 349), ('aime', 350), ('ait', 351), ('be', 352), ('c', 353), ('ceux', 354), ('demande', 355), ('devant', 356), ('e', 357), ('entre', 358), ('fais', 359), ('humiliated', 360), ('ici', 361), ('littéralement', 362), (\"lorsqu'\", 363), ('lorsque', 364), ('marier', 365), ('marriage', 366), ('no', 367), ('noire', 368), ('oui', 369), ('pouvoir', 370), ('puis', 371), ('quelques', 372), ('sens', 373), ('seule', 374), ('sûr', 375), ('up', 376), ('veut', 377), ('Cela', 378), ('Cette', 379), ('Ne', 380), ('am', 381), ('an', 382), ('aucune', 383), ('battu', 384), ('being', 385), ('bloqué', 386), ('by', 387), ('chaque', 388), ('chez', 389), ('cours', 390), ('devraient', 391), ('droit', 392), ('dû', 393), ('leurs', 394), ('moins', 395), ('moment', 396), ('partie', 397), ('poste', 398), ('prendre', 399), ('relation', 400), ('semaine', 401), ('sexe', 402), ('sexuel', 403), ('souviens', 404), ('travaillé', 405), ('undergo', 406), ('États-Unis', 407), ('étaient', 408), ('-t', 409), ('15', 410), ('18', 411), ('Biden', 412), ('Bonjour', 413), ('EN', 414), ('Est', 415), ('It', 416), ('Quand', 417), ('aider', 418), ('aller', 419), ('argent', 420), ('bas', 421), ('chef', 422), ('demander', 423), ('dernier', 424), (\"didn'\", 425), ('dites', 426), ('dois', 427), ('donne', 428), ('donner', 429), ('donné', 430), ('elles', 431), ('essayé', 432), ('female', 433), ('got', 434), ('honte', 435), ('jeunes', 436), ('journée', 437), ('jours', 438), ('laisser', 439), ('like', 440), ('lol', 441), ('lu', 442), ('main', 443), ('marié', 444), ('mauvais', 445), ('merde', 446), ('not', 447), ('nuit', 448), ('petite', 449), ('rend', 450), ('rendu', 451), ('sex', 452), ('soir', 453), ('sous', 454), ('trouver', 455), ('tuer', 456), ('via', 457), ('voici', 458), ('vrai', 459), ('école', 460), ('14', 461), ('17', 462), ('20', 463), ('5', 464), ('Après', 465), (\"Aujourd'hui\", 466), ('Chaque', 467), ('Court', 468), (\"D'\", 469), ('On', 470), ('Pourquoi', 471), ('Public', 472), (\"Qu'\", 473), (\"Quelqu'\", 474), ('Tells', 475), ('[', 476), (']', 477), ('about', 478), ('allais', 479), ('battait', 480), ('before', 481), ('blanche', 482), ('can', 483), ('chienne', 484), ('colère', 485), ('commencé', 486), ('congédier', 487), ('devrais', 488), ('dis', 489), ('disant', 490), ('do', 491), ('donc', 492), ('droits', 493), ('etc.', 494), ('gagné', 495), ('genital', 496), ('hier', 497), ('impression', 498), ('lendemain', 499), ('lieu', 500), ('lors', 501), ('mieux', 502), ('mérite', 503), ('nouvel', 504), ('obtenu', 505), ('one', 506), ('parle', 507), ('petit', 508), ('place', 509), ('plaît', 510), ('plutôt', 511), ('pouvait', 512), ('probablement', 513), ('propre', 514), ('quel', 515), ('regarder', 516), ('said', 517), ('sait', 518), ('semble', 519), ('senti', 520), ('sexuellement', 521), ('shit', 522), ('soutenir', 523), ('their', 524), ('them', 525), ('think', 526), ('triste', 527), ('trouvé', 528), ('tweet', 529), ('tête', 530), ('vais', 531), ('violence', 532), ('violer', 533), ('voté', 534), ('voulait', 535), ('vu', 536), ('women', 537), ('également', 538), ('épouser', 539), ('-là', 540), ('10', 541), ('2015', 542), ('30', 543), ('Afghanistan', 544), ('And', 545), ('Cher', 546), ('De', 547), ('LES', 548), ('Moi', 549), ('Même', 550), ('Obama', 551), ('Oui', 552), ('Pendant', 553), ('Shagufa', 554), ('The', 555), ('Tout', 556), ('Wife', 557), ('agit', 558), ('aide', 559), ('aimait', 560), ('allée', 561), ('amie', 562), ('appelle', 563), ('article', 564), (\"aujourd'hui\", 565), ('been', 566), ('blague', 567), ('boss', 568), ('bébé', 569), ('campagne', 570), ('certains', 571), ('collègue', 572), ('comportement', 573), ('compris', 574), ('crier', 575), ('crois', 576), ('côté', 577), ('dismissed', 578), ('emplois', 579), ('ensuite', 580), ('essaie', 581), ('eut', 582), ('faisais', 583), ('feel', 584), ('fils', 585), ('force', 586), ('forced', 587), ('garçon', 588), ('get', 589), ('girls', 590), ('go', 591), ('has', 592), ('how', 593), ('if', 594), ('illégal', 595), ('insultée', 596), ('intention', 597), ('into', 598), ('jusqu', 599), ('know', 600), ('laquelle', 601), ('ligne', 602), ('malade', 603), ('man', 604), ('mariée', 605), ('membre', 606), ('menacé', 607), ('met', 608), ('millions', 609), ('mise', 610), ('mort', 611), ('nom', 612), ('nos', 613), ('obtenir', 614), ('off', 615), ('old', 616), ('opinion', 617), ('originaire', 618), ('pensais', 619), ('pensait', 620), ('peut-être', 621), ('police', 622), ('première', 623), ('prison', 624), ('pu', 625), ('quitter', 626), ('raconte', 627), ('refusais', 628), ('rencontrer', 629), ('rendre', 630), ('savez', 631), ('sent', 632), ('sexuelle', 633), ('sommes', 634), ('suppose', 635), ('sécurité', 636), ('tu', 637), ('victime', 638), ('viens', 639), ('vient', 640), ('visage', 641), ('voulais', 642), ('we', 643), ('who', 644), ('why', 645), ('âgées', 646), ('êtes', 647), ('+', 648), ('-je', 649), ('19', 650), ('2016', 651), ('90', 652), ('Bien', 653), ('But', 654), ('Ces', 655), ('ET', 656), ('Ese', 657), ('JE', 658), ('Juste', 659), ('K', 660), ('MAROUA', 661), ('ME', 662), ('MON', 663), ('Mossoul', 664), ('Oh', 665), ('PUBLIC', 666), ('Puis', 667), ('RT', 668), ('Rien', 669), (\"S'\", 670), ('Son', 671), ('This', 672), ('Tu', 673), ('YAOUNDE', 674), ('abord', 675), ('abus', 676), ('accord', 677), ('afin', 678), ('agir', 679), ('ainsi', 680), ('année', 681), ('apprendre', 682), ('are', 683), ('arrêter', 684), ('asile', 685), ('aurait', 686), ('avaient', 687), ('back', 688), ('bain', 689), ('baise', 690), ('barbe', 691), ('bc', 692), ('bizarre', 693), ('celle', 694), ('chance', 695), ('child', 696), ('choir', 697), ('choix', 698), ('circoncision', 699), ('clients', 700), ('comprendre', 701), ('comprends', 702), ('consentement', 703), ('corpse', 704), ('coupable', 705), ('coups', 706), ('court', 707), ('cousin', 708), ('culture', 709), ('derrière', 710), ('devoir', 711), ('did', 712), ('difficile', 713), ('divorce', 714), ('domestique', 715), (\"don'\", 716), ('down', 717), ('déposé', 718), ('déteste', 719), ('embrasser', 720), ('endroit', 721), ('enfuie', 722), ('enseignante', 723), ('entendu', 724), ('entreprise', 725), ('envoyer', 726), ('exactement', 727), ('failli', 728), ('faisait', 729), ('faux', 730), ('fgm', 731), ('frère', 732), ('genre', 733), ('going', 734), ('groupe', 735), ('gt', 736), ('harcelé', 737), ('importe', 738), ('insulte', 739), ('justice', 740), ('lait', 741), ('loi', 742), ('mariés', 743), ('menace', 744), ('mensonges', 745), ('musique', 746), ('ni', 747), ('now', 748), ('objet', 749), ('ok', 750), ('ordonne', 751), ('passer', 752), ('passé', 753), ('people', 754), ('pire', 755), ('plainte', 756), ('please', 757), ('pleurer', 758), ('plusieurs', 759), ('porter', 760), ('pouvaient', 761), ('pouvais', 762), ('preuve', 763), ('preuves', 764), ('propriétaire', 765), ('près', 766), ('quatre', 767), ('questions', 768), ('raciste', 769), ('raconter', 770), ('rape', 771), ('refuse', 772), ('refused', 773), ('regarde', 774), ('religion', 775), ('règles', 776), ('régulièrement', 777), ('répondre', 778), ('révèle', 779), ('rêve', 780), ('rêvé', 781), ('savions', 782), ('savoir', 783), ('says', 784), ('semaines', 785), ('serai', 786), ('serais', 787), ('serait', 788), ('something', 789), ('sorte', 790), ('sortir', 791), ('surpris', 792), ('sympathie', 793), ('terrible', 794), ('then', 795), ('train', 796), ('tôt', 797), ('vieux', 798), ('viole', 799), ('violées', 800), ('volonté', 801), ('voulez', 802), ('wanna', 803), ('wife', 804), ('work', 805), ('xx', 806), ('year', 807), ('yeux', 808), ('|', 809), ('État', 810), ('étions', 811), ('-elle', 812), ('13', 813), ('2020', 814), ('23', 815), ('25', 816), ('3', 817), ('4', 818), ('40', 819), ('46', 820), ('6', 821), ('70', 822), ('9', 823), ('Aam', 824), ('Am', 825), ('Amérique', 826), ('As', 827), ('COVID-19', 828), ('Cachemire', 829), ('Comme', 830), ('DES', 831), ('DU', 832), ('DV', 833), ('Dans', 834), ('Depuis', 835), ('Des', 836), ('Divorce', 837), ('Dude', 838), ('Eh', 839), ('Facebook', 840), ('Has', 841), ('Hier', 842), ('Hillary', 843), ('Housemate', 844), ('Humiliated', 845), ('IRA', 846), ('If', 847), ('Is', 848), ('JAMAIS', 849), ('LA', 850), ('LE', 851), (\"M'\", 852), ('MA', 853), ('MARIAGE', 854), ('Maintenant', 855), ('Merci', 856), ('NE', 857), ('New', 858), ('No', 859), ('Non', 860), ('Nouveau', 861), ('Noël', 862), ('Ohio', 863), ('Pas', 864), ('Personne', 865), ('Peut', 866), ('Plus', 867), ('QUE', 868), ('Reade', 869), ('Royaume', 870), ('SIBERIA', 871), ('Sar', 872), ('Selon', 873), ('So', 874), ('TOUT', 875), ('TRADUCTION', 876), ('Tabitha', 877), ('Tara', 878), ('Twitter', 879), ('Uni', 880), ('Viol', 881), ('We', 882), ('Woman', 883), ('Zambie', 884), ('abri', 885), ('abuse', 886), ('acted', 887), ('adulte', 888), ('agissait', 889), ('agressée', 890), ('aient', 891), ('aimer', 892), ('allé', 893), ('always', 894), ('amis', 895), ('appeler', 896), ('arme', 897), ('arrangé', 898), ('arrive', 899), ('arrivé', 900), ('assis', 901), ('attendre', 902), ('attente', 903), ('autour', 904), ('avortement', 905), ('away', 906), ('bad', 907), ('bouteille', 908), ('bureau', 909), ('carte', 910), ('cas', 911), ('celui', 912), ('certaines', 913), ('changé', 914), ('chemin', 915), ('chercher', 916), ('choquante', 917), ('collège', 918), ('comes', 919), ('commentaire', 920), ('congé', 921), ('copain', 922), ('corps', 923), ('coup', 924), ('cour', 925), ('croire', 926), ('cul', 927), ('câlins', 928), ('cœur', 929), ('dessus', 930), ('deuxième', 931), ('devait', 932), ('directeur', 933), ('disait', 934), ('discours', 935), ('discrimination', 936), ('disparaître', 937), (\"doesn'\", 938), ('doit', 939), ('domaine', 940), ('dormais', 941), ('dormir', 942), ('dos', 943), ('douleur', 944), ('drôle', 945), ('début', 946), ('décidé', 947), ('détail', 948), ('embauché', 949), ('enfui', 950), ('enlevé', 951), ('ensemble', 952), ('entendre', 953), ('envoyé', 954), ('erreur', 955), ('essayer', 956), ('even', 957), ('ex', 958), ('ex-mari', 959), ('excusé', 960), ('exiger', 961), ('exprimer', 962), ('expérience', 963), ('expériences', 964), ('factures', 965), ('faites', 966), ('faute', 967), ('fière', 968), ('fonds', 969), ('forcées', 970), ('forum', 971), ('found', 972), ('frappé', 973), ('fucking', 974), ('fâché', 975), ('fête', 976), ('gai', 977), ('gang', 978), ('garde', 979), ('gay', 980), ('grand', 981), ('grande', 982), ('gros', 983), ('grosse', 984), ('grossesse', 985), ('guerre', 986), ('habitude', 987), ('help', 988), ('heures', 989), ('home', 990), ('honneur', 991), ('horrible', 992), ('house', 993), ('humilier', 994), ('humiliés', 995), ('imposé', 996), ('information', 997), ('inscrire', 998), ('insulted', 999), ('insulter', 1000), (\"jusqu'\", 1001), ('knew', 1002), ('laisse', 1003), ('laissez', 1004), ('later', 1005), ('law', 1006), ('levée', 1007), ('lire', 1008), ('livre', 1009), ('long', 1010), ('lot', 1011), ('magasin', 1012), ('married', 1013), ('masculins', 1014), ('matin', 1015), ('mec', 1016), ('meilleur', 1017), ('message', 1018), ('minutes', 1019), ('montrer', 1020), ('more', 1021), ('mots', 1022), ('méchant', 1023), ('méritais', 1024), ('nombreuses', 1025), ('noms', 1026), ('nothing', 1027), ('nouveau', 1028), ('nouvelles', 1029), ('occuper', 1030), ('oh', 1031), ('origine', 1032), ('other', 1033), ('oublier', 1034), ('oublié', 1035), ('own', 1036), ('papa', 1037), ('parfois', 1038), ('parlait', 1039), ('partager', 1040), ('partir', 1041), ('partout', 1042), ('passait', 1043), ('payé', 1044), ('pensent', 1045), ('pensé', 1046), ('perdant', 1047), ('perdre', 1048), ('peuvent', 1049), ('pied', 1050), ('plupart', 1051), ('policiers', 1052), ('porte', 1053), ('poster', 1054), ('pourrais', 1055), ('pourrait', 1056), ('poursuivi', 1057), ('pourtant', 1058), ('presque', 1059), ('privé', 1060), ('problèmes', 1061), ('produit', 1062), ('propos', 1063), ('prostitution', 1064), ('prêt', 1065), ('période', 1066), ('quelle', 1067), ('question', 1068), ('quitté', 1069), ('race', 1070), ('refuge', 1071), ('rejetée', 1072), ('respect', 1073), ('reste', 1074), ('rester', 1075), ('retourner', 1076), ('reçu', 1077), ('répondu', 1078), ('sache', 1079), ('salle', 1080), ('savais', 1081), ('sentir', 1082), ('serrures', 1083), ('seul', 1084), ('sexiste', 1085), ('situation', 1086), ('sois', 1087), ('some', 1088), ('sommeil', 1089), ('soutien', 1090), ('souvent', 1091), ('soyez', 1092), ('story', 1093), ('stupide', 1094), ('suffit', 1095), ('suivi', 1096), ('séparer', 1097), ('sœur', 1098), ('thinking', 1099), ('tomber', 1100), ('travaillais', 1101), ('travaille', 1102), ('troisième', 1103), ('trouve', 1104), ('venu', 1105), ('vidéo', 1106), ('vieille', 1107), ('ville', 1108), ('violait', 1109), ('violeurs', 1110), ('vois', 1111), ('voix', 1112), ('vont', 1113), ('vote', 1114), ('vécu', 1115), ('vérifier', 1116), ('vérité', 1117), ('vêtements', 1118), ('way', 1119), ('what', 1120), ('whatever', 1121), (\"wouldn'\", 1122), ('young', 1123), ('your', 1124), ('âgé', 1125), ('échapper', 1126), ('énorme', 1127), ('épidémie', 1128), ('époque', 1129), ('étant', 1130), ('♀', 1131)])\n"
     ]
    }
   ],
   "source": [
    "# Initialize glove embeddings\n",
    "TEXT.build_vocab(train_data, min_freq=3, vectors = \"glove.6B.100d\")  \n",
    "LABEL.build_vocab(train_data)\n",
    "\n",
    "# No. of unique tokens in text\n",
    "print(\"Size of TEXT vocabulary:\",len(TEXT.vocab))\n",
    "\n",
    "# No. of unique tokens in label\n",
    "print(\"Size of LABEL vocabulary:\",len(LABEL.vocab))\n",
    "\n",
    "# Commonly used words\n",
    "print(\"Commonly used words\", TEXT.vocab.freqs.most_common(10))  \n",
    "\n",
    "# Word dictionary\n",
    "print(\"Word dictionary\", TEXT.vocab.stoi.items())   "
   ]
  },
  {
   "cell_type": "code",
   "execution_count": 15,
   "metadata": {
    "colab": {
     "base_uri": "https://localhost:8080/"
    },
    "id": "UtFZJAVIKGJ7",
    "outputId": "36893341-6f40-4fb2-8581-27dd50b47b83"
   },
   "outputs": [
    {
     "name": "stdout",
     "output_type": "stream",
     "text": [
      "Help on method build_vocab in module torchtext.legacy.data.field:\n",
      "\n",
      "build_vocab(*args, **kwargs) method of torchtext.legacy.data.field.Field instance\n",
      "    Construct the Vocab object for this field from one or more datasets.\n",
      "    \n",
      "    Arguments:\n",
      "        Positional arguments: Dataset objects or other iterable data\n",
      "            sources from which to construct the Vocab object that\n",
      "            represents the set of possible values for this field. If\n",
      "            a Dataset object is provided, all columns corresponding\n",
      "            to this field are used; individual columns can also be\n",
      "            provided directly.\n",
      "        Remaining keyword arguments: Passed to the constructor of Vocab.\n",
      "\n"
     ]
    }
   ],
   "source": [
    "help(TEXT.build_vocab)"
   ]
  },
  {
   "cell_type": "markdown",
   "metadata": {
    "id": "X3GK-42KW6N-"
   },
   "source": [
    "## Build the model"
   ]
  },
  {
   "cell_type": "code",
   "execution_count": 16,
   "metadata": {
    "id": "YjhJaGDoW6N-"
   },
   "outputs": [],
   "source": [
    "import torch.nn as nn\n",
    "\n",
    "class classifier(nn.Module):\n",
    "    \n",
    "    #define all the layers used in model\n",
    "    def __init__(self, vocab_size, embedding_dim, hidden_dim, output_dim, n_layers, \n",
    "                 bidirectional, dropout):\n",
    "        \n",
    "        #Constructor\n",
    "        super().__init__()          \n",
    "        \n",
    "        #embedding layer\n",
    "        self.embedding = nn.Embedding(vocab_size, embedding_dim)\n",
    "        \n",
    "        #lstm layer\n",
    "        self.lstm = nn.LSTM(embedding_dim, \n",
    "                           hidden_dim, \n",
    "                           num_layers=n_layers, \n",
    "                           bidirectional=bidirectional, \n",
    "                           dropout=dropout,\n",
    "                           batch_first=True)\n",
    "        \n",
    "        #dense layer\n",
    "        self.fc = nn.Linear(hidden_dim * 2, output_dim)\n",
    "        \n",
    "        #activation function\n",
    "        self.act = nn.Sigmoid()\n",
    "        \n",
    "    def forward(self, text, text_lengths):\n",
    "        \n",
    "        #text = [batch size,sent_length]\n",
    "        embedded = self.embedding(text)\n",
    "        #embedded = [batch size, sent_len, emb dim]\n",
    "      \n",
    "        #packed sequence\n",
    "        packed_embedded = nn.utils.rnn.pack_padded_sequence(embedded, text_lengths.to(\"cpu\"), batch_first=True)\n",
    "        \n",
    "        packed_output, (hidden, cell) = self.lstm(packed_embedded)\n",
    "        #hidden = [batch size, num layers * num directions,hid dim]\n",
    "        #cell = [batch size, num layers * num directions,hid dim]\n",
    "        \n",
    "        #concat the final forward and backward hidden state\n",
    "        hidden = torch.cat((hidden[-2,:,:], hidden[-1,:,:]), dim = 1)\n",
    "                \n",
    "        #hidden = [batch size, hid dim * num directions]\n",
    "        dense_outputs=self.fc(hidden)\n",
    "\n",
    "        #Final activation function\n",
    "        outputs=self.act(dense_outputs)\n",
    "        \n",
    "        return outputs"
   ]
  },
  {
   "cell_type": "code",
   "execution_count": 17,
   "metadata": {
    "id": "n2b1jTd6W6N_"
   },
   "outputs": [],
   "source": [
    "#define hyperparameters\n",
    "size_of_vocab = len(TEXT.vocab)\n",
    "embedding_dim = 100\n",
    "num_hidden_nodes = 32\n",
    "num_output_nodes = 5\n",
    "num_layers = 2\n",
    "bidirection = True\n",
    "dropout = 0.2\n",
    "\n",
    "#instantiate the model\n",
    "model = classifier(size_of_vocab, embedding_dim, num_hidden_nodes,num_output_nodes, num_layers, \n",
    "                   bidirectional = True, dropout = dropout)"
   ]
  },
  {
   "cell_type": "code",
   "execution_count": 18,
   "metadata": {
    "colab": {
     "base_uri": "https://localhost:8080/"
    },
    "id": "yDbyDRL5W6N_",
    "outputId": "955c72b2-f686-4971-9d72-371e6d3a54f0"
   },
   "outputs": [
    {
     "name": "stdout",
     "output_type": "stream",
     "text": [
      "classifier(\n",
      "  (embedding): Embedding(1132, 100)\n",
      "  (lstm): LSTM(100, 32, num_layers=2, batch_first=True, dropout=0.2, bidirectional=True)\n",
      "  (fc): Linear(in_features=64, out_features=5, bias=True)\n",
      "  (act): Sigmoid()\n",
      ")\n",
      "The model has 172,917 trainable parameters\n",
      "torch.Size([1132, 100])\n"
     ]
    }
   ],
   "source": [
    "#architecture\n",
    "print(model)\n",
    "\n",
    "#No. of trianable parameters\n",
    "def count_parameters(model):\n",
    "    return sum(p.numel() for p in model.parameters() if p.requires_grad)\n",
    "    \n",
    "print(f'The model has {count_parameters(model):,} trainable parameters')\n",
    "\n",
    "#Initialize the pretrained embedding\n",
    "pretrained_embeddings = TEXT.vocab.vectors\n",
    "model.embedding.weight.data.copy_(pretrained_embeddings)\n",
    "\n",
    "print(pretrained_embeddings.shape)"
   ]
  },
  {
   "cell_type": "code",
   "execution_count": 19,
   "metadata": {
    "id": "OWYVyttfW6OA"
   },
   "outputs": [],
   "source": [
    "import torch.optim as optim\n",
    "\n",
    "#define optimizer and loss\n",
    "optimizer = optim.Adam(model.parameters())\n",
    "criterion = nn.BCELoss()#weight=torch.tensor([0.012145, 0.066683, 0.609063, 1.827189, 2.109043])) \n",
    "\n",
    "#define metric\n",
    "def binary_accuracy(preds, y):\n",
    "    #round predictions to the closest integer\n",
    "    rounded_preds = torch.round(preds)\n",
    "    \n",
    "    correct = (rounded_preds == y).float() \n",
    "    acc = correct.sum() / len(correct)\n",
    "    return acc\n",
    "    \n",
    "#push to cuda if available\n",
    "model = model.to(device)\n",
    "criterion = criterion.to(device)"
   ]
  },
  {
   "cell_type": "code",
   "execution_count": 20,
   "metadata": {
    "id": "3XJt8N8FW6OB"
   },
   "outputs": [],
   "source": [
    "def train(model, iterator, optimizer, criterion):\n",
    "    \n",
    "    #initialize every epoch \n",
    "    epoch_loss = 0\n",
    "    epoch_acc = 0\n",
    "    \n",
    "    #set the model in training phase\n",
    "    model.train()  \n",
    "    \n",
    "    for batch in iterator:\n",
    "        \n",
    "        #resets the gradients after every batch\n",
    "        optimizer.zero_grad()   \n",
    "        \n",
    "        #retrieve text and no. of words\n",
    "        text, text_lengths = batch.tweet   \n",
    "        #convert to 1D tensor\n",
    "        predictions = model(text, text_lengths)\n",
    "        \n",
    "        #compute the loss\n",
    "        batch_size = batch.type.shape[0]\n",
    "        target = torch.zeros((batch_size, num_output_nodes))\n",
    "        target[[i for i in range(batch_size)], batch.type.to(\"cpu\").numpy()] = 1.0\n",
    "        target = target.to(device)\n",
    "        \n",
    "        loss = criterion(predictions, target)        \n",
    "        \n",
    "        #compute the binary accuracy\n",
    "        #acc = binary_accuracy(predictions, batch.label)   \n",
    "        \n",
    "        #backpropage the loss and compute the gradients\n",
    "        loss.backward()       \n",
    "        \n",
    "        #update the weights\n",
    "        optimizer.step()      \n",
    "        \n",
    "        #loss and accuracy\n",
    "        epoch_loss += loss.item()  \n",
    "        #epoch_acc += acc.item()    \n",
    "        \n",
    "    return epoch_loss / len(iterator)#, epoch_acc / len(iterator)"
   ]
  },
  {
   "cell_type": "code",
   "execution_count": 21,
   "metadata": {
    "id": "T6twCcmnW6OC"
   },
   "outputs": [],
   "source": [
    "def evaluate(model, iterator, criterion):\n",
    "    \n",
    "    #initialize every epoch\n",
    "    epoch_loss = 0\n",
    "    epoch_acc = 0\n",
    "\n",
    "    #deactivating dropout layers\n",
    "    model.eval()\n",
    "    \n",
    "    #deactivates autograd\n",
    "    with torch.no_grad():\n",
    "    \n",
    "        for batch in iterator:\n",
    "        \n",
    "            #retrieve text and no. of words\n",
    "            text, text_lengths = batch.tweet\n",
    "            \n",
    "            #convert to 1d tensor\n",
    "            predictions = model(text, text_lengths)\n",
    "            \n",
    "            #compute the loss\n",
    "            batch_size = batch.type.shape[0]\n",
    "            target = torch.zeros((batch_size, num_output_nodes))\n",
    "            target[[i for i in range(batch_size)], batch.type.to(\"cpu\").numpy()] = 1.0\n",
    "            target = target.to(device)\n",
    "            \n",
    "            #compute loss and accuracy\n",
    "            loss = criterion(predictions, target)        \n",
    "            #acc = binary_accuracy(predictions, batch.label)\n",
    "            \n",
    "            #keep track of loss and accuracy\n",
    "            epoch_loss += loss.item()\n",
    "            #epoch_acc += acc.item()\n",
    "        \n",
    "    return epoch_loss / len(iterator)#, epoch_acc / len(iterator)"
   ]
  },
  {
   "cell_type": "code",
   "execution_count": 22,
   "metadata": {
    "colab": {
     "base_uri": "https://localhost:8080/"
    },
    "id": "S1Wgv9LdW6OD",
    "outputId": "0b480da0-e139-4012-cbfd-990c8f9cb85c"
   },
   "outputs": [
    {
     "name": "stdout",
     "output_type": "stream",
     "text": [
      "EPOCH 0%\n",
      "\tTrain Loss: 0.671%\n",
      "\t Val. Loss: 0.633%\n",
      "EPOCH 1%\n",
      "\tTrain Loss: 0.582%\n",
      "\t Val. Loss: 0.526%\n",
      "EPOCH 2%\n",
      "\tTrain Loss: 0.508%\n",
      "\t Val. Loss: 0.502%\n",
      "EPOCH 3%\n",
      "\tTrain Loss: 0.503%\n",
      "\t Val. Loss: 0.502%\n",
      "EPOCH 4%\n",
      "\tTrain Loss: 0.499%\n",
      "\t Val. Loss: 0.499%\n",
      "EPOCH 5%\n",
      "\tTrain Loss: 0.496%\n",
      "\t Val. Loss: 0.496%\n",
      "EPOCH 6%\n",
      "\tTrain Loss: 0.492%\n",
      "\t Val. Loss: 0.493%\n",
      "EPOCH 7%\n",
      "\tTrain Loss: 0.487%\n",
      "\t Val. Loss: 0.481%\n",
      "EPOCH 8%\n",
      "\tTrain Loss: 0.467%\n",
      "\t Val. Loss: 0.460%\n",
      "EPOCH 9%\n",
      "\tTrain Loss: 0.440%\n",
      "\t Val. Loss: 0.445%\n",
      "EPOCH 10%\n",
      "\tTrain Loss: 0.420%\n",
      "\t Val. Loss: 0.454%\n",
      "EPOCH 11%\n",
      "\tTrain Loss: 0.415%\n",
      "\t Val. Loss: 0.422%\n"
     ]
    }
   ],
   "source": [
    "N_EPOCHS = 12\n",
    "best_valid_loss = float('inf')\n",
    "\n",
    "train_loss = np.zeros((1, N_EPOCHS))\n",
    "valid_loss = np.zeros((1, N_EPOCHS))\n",
    "\n",
    "for epoch in range(N_EPOCHS):\n",
    "     \n",
    "    #train the model\n",
    "    train_loss[0, epoch] = train(model, train_iterator, optimizer, criterion)\n",
    "    \n",
    "    #evaluate the model\n",
    "    valid_loss[0, epoch] = evaluate(model, valid_iterator, criterion)\n",
    "    \n",
    "    #save the best model\n",
    "    if valid_loss[0, epoch] < best_valid_loss:\n",
    "        best_valid_loss = valid_loss[0, epoch]\n",
    "        torch.save(model.state_dict(), models_folder+'saved_weights('+str(epoch)+').pt')\n",
    "    \n",
    "    print(f\"EPOCH {epoch}%\")\n",
    "    print(f'\\tTrain Loss: {train_loss[0, epoch]:.3f}%')# | Train Acc: {train_acc*100:.2f}%')\n",
    "    print(f'\\t Val. Loss: {valid_loss[0, epoch]:.3f}%')# |  Val. Acc: {valid_acc*100:.2f}%')\n"
   ]
  },
  {
   "cell_type": "code",
   "execution_count": 23,
   "metadata": {
    "colab": {
     "base_uri": "https://localhost:8080/",
     "height": 301
    },
    "id": "1Lx40YzdW6OD",
    "outputId": "199022f8-2fac-4136-84fa-a925d5e21c0a"
   },
   "outputs": [
    {
     "data": {
      "image/png": "[encoded data removed]",
      "text/plain": [
       "<Figure size 432x288 with 1 Axes>"
      ]
     },
     "metadata": {},
     "output_type": "display_data"
    }
   ],
   "source": [
    "# Plot the complexity graph\n",
    "plt.plot(train_loss[0,:], label = \"train\")\n",
    "plt.plot(valid_loss[0,:], label = \"validation\")\n",
    "plt.xlabel('epoch')\n",
    "# Set the y axis label of the current axis.\n",
    "plt.ylabel('error')\n",
    "# Set a title of the current axes.\n",
    "plt.title('Complexity graph')\n",
    "# show a legend on the plot\n",
    "plt.legend()\n",
    "# Display a figure.\n",
    "plt.show()"
   ]
  },
  {
   "cell_type": "code",
   "execution_count": 24,
   "metadata": {
    "id": "9mztMo3YW6OE"
   },
   "outputs": [],
   "source": [
    "#load weights\n",
    "path='drive/MyDrive/Models/text classification/saved_weights('+str(N_EPOCHS-1)+').pt'\n",
    "model.load_state_dict(torch.load(path))\n",
    "model.eval();\n",
    "\n",
    "#inference \n",
    "import spacy\n",
    "nlp = spacy.load(\"fr_core_news_sm\")\n",
    "\n",
    "CLASS = [\"sexual_violence\", \"Physical_violence\", \"emotional_violence\", \"economic_violence\", \"Harmful_Traditional_practice\"]\n",
    "\n",
    "def predict(sentence):\n",
    "\n",
    "    tokenized = [tok.text for tok in nlp.tokenizer(sentence)]  #tokenize the sentence \n",
    "    indexed = [TEXT.vocab.stoi[t] for t in tokenized]          #convert to integer sequence\n",
    "    \n",
    "    length = len(indexed)\n",
    "    length_tensor = torch.LongTensor([length]).to('cpu')\n",
    "    \n",
    "    my_tensor = torch.LongTensor(indexed).to(device)           #convert to tensor\n",
    "    my_tensor = torch.reshape(my_tensor, (1, length))          #reshape in form of batch,no. of words\n",
    "    \n",
    "    prediction = model(my_tensor, length_tensor)               #prediction \n",
    "    i = prediction.argmax().to('cpu').numpy()\n",
    "\n",
    "    data = pd.read_csv(collected_data_path)\n",
    "\n",
    "    if data[\"tweet\"].str.contains(sentence).sum() == 0:\n",
    "        data = data.append({\"tweet\": sentence, \"type\": CLASS[i]}, ignore_index=True)\n",
    "        data.to_csv(collected_data_path)\n",
    "        print(\"The sentence was well added.\")\n",
    "\n",
    "    return CLASS[i]"
   ]
  },
  {
   "cell_type": "code",
   "execution_count": 29,
   "metadata": {
    "colab": {
     "base_uri": "https://localhost:8080/",
     "height": 35
    },
    "id": "LGrzvVHvW6OE",
    "outputId": "738dd2b2-f621-4880-cac0-eb29e5961906"
   },
   "outputs": [
    {
     "data": {
      "application/vnd.google.colaboratory.intrinsic+json": {
       "type": "string"
      },
      "text/plain": [
       "'emotional_violence'"
      ]
     },
     "execution_count": 29,
     "metadata": {},
     "output_type": "execute_result"
    }
   ],
   "source": [
    "# make predictions\n",
    "predict(\"Il m'ainsulté enpublic à plusieurs reprises.\")"
   ]
  }
 ],
 "metadata": {
  "accelerator": "GPU",
  "colab": {
   "collapsed_sections": [
    "yKoL2hXIhqtg",
    "7dzZUWe8W6No",
    "m3cPhuljW6Nr",
    "vj2hhLkhW6Nz",
    "J8r72yIIW6N5",
    "MAuZO8iFW6N6",
    "0WbrDG-XW6N7",
    "X3GK-42KW6N-"
   ],
   "name": "text-classification-using-word2vec(1).ipynb",
   "provenance": []
  },
  "kernelspec": {
   "display_name": "Python 3",
   "language": "python",
   "name": "python3"
  },
  "language_info": {
   "codemirror_mode": {
    "name": "ipython",
    "version": 3
   },
   "file_extension": ".py",
   "mimetype": "text/x-python",
   "name": "python",
   "nbconvert_exporter": "python",
   "pygments_lexer": "ipython3",
   "version": "3.6.9"
  }
 },
 "nbformat": 4,
 "nbformat_minor": 1
}
