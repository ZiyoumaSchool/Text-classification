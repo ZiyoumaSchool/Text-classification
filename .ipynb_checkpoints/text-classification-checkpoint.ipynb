{
 "cells": [
  {
   "cell_type": "markdown",
   "metadata": {},
   "source": [
    "# Text classification: We are going to developp a model able to classify text in 6 categories."
   ]
  },
  {
   "cell_type": "markdown",
   "metadata": {},
   "source": [
    "## Choose directories"
   ]
  },
  {
   "cell_type": "code",
   "execution_count": null,
   "metadata": {},
   "outputs": [],
   "source": [
    "\"\"\"\n",
    "\n",
    "data_path : concerns the path of the .csv file used as training set\n",
    "\n",
    "models_folder : referes to the folder where the models obtain after each epochs will store.\n",
    "\n",
    "N_EPOCHS : Number of iterations(epochs)\n",
    "\n",
    "\"\"\"\n",
    "data_path = \"../input/genderbased-violence-tweet-classification/Gender-Based Violence Tweet Classification Challenge/Train.csv\"\n",
    "models_folder = \"./\"\n",
    "N_EPOCHS = 5"
   ]
  },
  {
   "cell_type": "markdown",
   "metadata": {},
   "source": [
    "## Import"
   ]
  },
  {
   "cell_type": "code",
   "execution_count": 1,
   "metadata": {
    "execution": {
     "iopub.execute_input": "2021-09-30T08:32:22.457218Z",
     "iopub.status.busy": "2021-09-30T08:32:22.456931Z",
     "iopub.status.idle": "2021-09-30T08:32:24.292152Z",
     "shell.execute_reply": "2021-09-30T08:32:24.290973Z",
     "shell.execute_reply.started": "2021-09-30T08:32:22.457160Z"
    }
   },
   "outputs": [],
   "source": [
    "import os\n",
    "import torch\n",
    "from torchtext import data\n",
    "import seaborn as sns\n",
    "import matplotlib.pyplot as plt\n",
    "import pandas as pd\n",
    "import numpy as np\n",
    "import random"
   ]
  },
  {
   "cell_type": "markdown",
   "metadata": {},
   "source": [
    "## Reproducibility"
   ]
  },
  {
   "cell_type": "code",
   "execution_count": 2,
   "metadata": {
    "execution": {
     "iopub.execute_input": "2021-09-30T08:32:24.294916Z",
     "iopub.status.busy": "2021-09-30T08:32:24.294274Z",
     "iopub.status.idle": "2021-09-30T08:32:24.308894Z",
     "shell.execute_reply": "2021-09-30T08:32:24.307736Z",
     "shell.execute_reply.started": "2021-09-30T08:32:24.294852Z"
    }
   },
   "outputs": [],
   "source": [
    "SEED = 2021\n",
    "\n",
    "def reproducibility(seed=2021):\n",
    "    \n",
    "    # seed for random, os, numpy and torch librayr\n",
    "    random.seed(seed)\n",
    "    os.environ['PYTHONHASHSEED'] = str(seed)\n",
    "    np.random.seed(seed)\n",
    "    torch.manual_seed(seed)\n",
    "    \n",
    "    # seed fo cuda\n",
    "    torch.cuda.manual_seed(seed)\n",
    "    torch.backends.cudnn.deterministic = True\n",
    "    torch.backends.cudnn.benchmark = False\n",
    "\n",
    "reproducibility(SEED)"
   ]
  },
  {
   "cell_type": "markdown",
   "metadata": {},
   "source": [
    "## EDA"
   ]
  },
  {
   "cell_type": "code",
   "execution_count": 3,
   "metadata": {
    "execution": {
     "iopub.execute_input": "2021-09-30T08:32:24.312095Z",
     "iopub.status.busy": "2021-09-30T08:32:24.311035Z",
     "iopub.status.idle": "2021-09-30T08:32:25.130286Z",
     "shell.execute_reply": "2021-09-30T08:32:25.129192Z",
     "shell.execute_reply.started": "2021-09-30T08:32:24.311752Z"
    }
   },
   "outputs": [],
   "source": [
    "donnees = pd.read_csv(data_path, index_col=\"Tweet_ID\")\n",
    "\n",
    "sns.set_style(\"dark\")\n",
    "sns.set_context(\"notebook\")\n",
    "plt.figure(figsize=(8, 5))\n",
    "plt.subplot(111)\n",
    "sns.countplot(data=donnees, x=\"type\")\n",
    "plt.xticks(rotation=90)\n",
    "plt.legend(loc=\"upper right\")\n",
    "plt.show()"
   ]
  },
  {
   "cell_type": "code",
   "execution_count": 4,
   "metadata": {
    "execution": {
     "iopub.execute_input": "2021-09-30T08:32:25.138266Z",
     "iopub.status.busy": "2021-09-30T08:32:25.135584Z",
     "iopub.status.idle": "2021-09-30T08:32:25.171012Z",
     "shell.execute_reply": "2021-09-30T08:32:25.170043Z",
     "shell.execute_reply.started": "2021-09-30T08:32:25.138205Z"
    }
   },
   "outputs": [],
   "source": [
    "num_data_per_class = donnees[\"type\"].value_counts()\n",
    "num_data_per_class"
   ]
  },
  {
   "cell_type": "code",
   "execution_count": 5,
   "metadata": {
    "execution": {
     "iopub.execute_input": "2021-09-30T08:32:25.179224Z",
     "iopub.status.busy": "2021-09-30T08:32:25.176295Z",
     "iopub.status.idle": "2021-09-30T08:32:25.238504Z",
     "shell.execute_reply": "2021-09-30T08:32:25.237555Z",
     "shell.execute_reply.started": "2021-09-30T08:32:25.179162Z"
    }
   },
   "outputs": [],
   "source": [
    "percentage_data_per_class = 100*donnees[\"type\"].value_counts()/donnees.shape[0]\n",
    "percentage_data_per_class"
   ]
  },
  {
   "cell_type": "code",
   "execution_count": 6,
   "metadata": {
    "execution": {
     "iopub.execute_input": "2021-09-30T08:32:25.245647Z",
     "iopub.status.busy": "2021-09-30T08:32:25.243328Z",
     "iopub.status.idle": "2021-09-30T08:32:25.276166Z",
     "shell.execute_reply": "2021-09-30T08:32:25.275191Z",
     "shell.execute_reply.started": "2021-09-30T08:32:25.245588Z"
    }
   },
   "outputs": [],
   "source": [
    "1 / (100*donnees[\"type\"].value_counts()/donnees.shape[0])"
   ]
  },
  {
   "cell_type": "markdown",
   "metadata": {},
   "source": [
    "## Resampling"
   ]
  },
  {
   "cell_type": "code",
   "execution_count": 7,
   "metadata": {
    "execution": {
     "iopub.execute_input": "2021-09-30T08:32:25.284226Z",
     "iopub.status.busy": "2021-09-30T08:32:25.281314Z",
     "iopub.status.idle": "2021-09-30T08:32:25.291783Z",
     "shell.execute_reply": "2021-09-30T08:32:25.290476Z",
     "shell.execute_reply.started": "2021-09-30T08:32:25.284158Z"
    }
   },
   "outputs": [],
   "source": [
    "labels = [\"sexual_violence\", \"Physical_violence\", \"emotional_violence\",\n",
    "         \"economic_violence\", \"Harmful_Traditional_practice\"]"
   ]
  },
  {
   "cell_type": "markdown",
   "metadata": {},
   "source": []
  },
  {
   "cell_type": "code",
   "execution_count": 9,
   "metadata": {
    "execution": {
     "iopub.execute_input": "2021-09-30T08:34:17.577734Z",
     "iopub.status.busy": "2021-09-30T08:34:17.577225Z",
     "iopub.status.idle": "2021-09-30T08:34:18.364653Z",
     "shell.execute_reply": "2021-09-30T08:34:18.363805Z",
     "shell.execute_reply.started": "2021-09-30T08:34:17.577604Z"
    }
   },
   "outputs": [],
   "source": [
    "import math\n",
    "percent = 0.7\n",
    "\n",
    "new_train_data = pd.concat([donnees.loc[donnees[\"type\"]==t, :].sample(math.ceil(percent*num_data_per_class[t])) for t in labels]\n",
    "                , axis=0)\n",
    "\n",
    "new_valid_data = pd.concat([donnees.loc[donnees[\"type\"]==t, :].sample(math.floor((1-percent)*num_data_per_class[t])) for t in labels]\n",
    "                , axis=0)\n",
    "\n",
    "new_train_data.to_csv(\"./new_train.csv\")\n",
    "new_valid_data.to_csv(\"./new_valid.csv\")"
   ]
  },
  {
   "cell_type": "markdown",
   "metadata": {},
   "source": [
    "## Preprocessing"
   ]
  },
  {
   "cell_type": "code",
   "execution_count": 10,
   "metadata": {
    "execution": {
     "iopub.execute_input": "2021-09-30T08:34:26.746636Z",
     "iopub.status.busy": "2021-09-30T08:34:26.746293Z",
     "iopub.status.idle": "2021-09-30T08:34:44.624122Z",
     "shell.execute_reply": "2021-09-30T08:34:44.622908Z",
     "shell.execute_reply.started": "2021-09-30T08:34:26.746535Z"
    }
   },
   "outputs": [],
   "source": [
    "# Now, let us see how to preprocess the text using field objects.\n",
    "# There are 2 different types of field objects – Field and LabelField.\n",
    "# Field concern the preprocessing tehcnics to apply on text ans LabelField concern ones toapply for Label.\n",
    "\n",
    "TEXT = data.Field(tokenize='spacy', batch_first=True, include_lengths=True)\n",
    "LABEL = data.LabelField()\n",
    "\n",
    "# This variable is used to read file data.\n",
    "fields = [('Tweet_ID',None), ('tweet',TEXT), ('type', LABEL)]\n",
    "\n",
    "# Loading custom dataset    \n",
    "train_data=data.TabularDataset(path = './new_train.csv'\n",
    "                                  ,format = 'csv', fields = fields, skip_header = True)\n",
    "valid_data=data.TabularDataset(path = './new_valid.csv'\n",
    "                                  ,format = 'csv', fields = fields, skip_header = True)\n",
    "\n",
    "# Print preprocessed text\n",
    "print(vars(train_data.examples[0]))"
   ]
  },
  {
   "cell_type": "markdown",
   "metadata": {},
   "source": [
    "## Split data to train and validation set "
   ]
  },
  {
   "cell_type": "code",
   "execution_count": 14,
   "metadata": {
    "execution": {
     "iopub.execute_input": "2021-09-30T08:34:44.736668Z",
     "iopub.status.busy": "2021-09-30T08:34:44.736321Z",
     "iopub.status.idle": "2021-09-30T08:34:44.748154Z",
     "shell.execute_reply": "2021-09-30T08:34:44.746623Z",
     "shell.execute_reply.started": "2021-09-30T08:34:44.736611Z"
    }
   },
   "outputs": [],
   "source": [
    "# Check whether cuda is available\n",
    "device = torch.device('cuda' if torch.cuda.is_available() else 'cpu')  \n",
    "\n",
    "# Set batch size\n",
    "BATCH_SIZE = 64\n",
    "\n",
    "# Load iterators\n",
    "train_iterator, valid_iterator = data.BucketIterator.splits(\n",
    "    (train_data, valid_data),\n",
    "    batch_size = BATCH_SIZE,\n",
    "    sort_key = lambda x: len(x.tweet),\n",
    "    sort_within_batch=True,\n",
    "    device = device)"
   ]
  },
  {
   "cell_type": "markdown",
   "metadata": {},
   "source": [
    "## Preparing input and output sequences"
   ]
  },
  {
   "cell_type": "code",
   "execution_count": null,
   "metadata": {
    "_kg_hide-input": true,
    "_kg_hide-output": true
   },
   "outputs": [],
   "source": [
    "# Initialize glove embeddings\n",
    "TEXT.build_vocab(train_data, min_freq=3, vectors = \"glove.6B.100d\")  \n",
    "LABEL.build_vocab(train_data)\n",
    "\n",
    "# No. of unique tokens in text\n",
    "print(\"Size of TEXT vocabulary:\",len(TEXT.vocab))\n",
    "\n",
    "# No. of unique tokens in label\n",
    "print(\"Size of LABEL vocabulary:\",len(LABEL.vocab))\n",
    "\n",
    "# Commonly used words\n",
    "print(\"Commonly used words\", TEXT.vocab.freqs.most_common(10))  \n",
    "\n",
    "# Word dictionary\n",
    "print(\"Word dictionary\", TEXT.vocab.stoi.items())   "
   ]
  },
  {
   "cell_type": "markdown",
   "metadata": {},
   "source": [
    "## Build the model"
   ]
  },
  {
   "cell_type": "code",
   "execution_count": 18,
   "metadata": {
    "execution": {
     "iopub.execute_input": "2021-09-30T08:38:19.948286Z",
     "iopub.status.busy": "2021-09-30T08:38:19.947903Z",
     "iopub.status.idle": "2021-09-30T08:38:19.960107Z",
     "shell.execute_reply": "2021-09-30T08:38:19.958946Z",
     "shell.execute_reply.started": "2021-09-30T08:38:19.948217Z"
    }
   },
   "outputs": [],
   "source": [
    "import torch.nn as nn\n",
    "\n",
    "class classifier(nn.Module):\n",
    "    \n",
    "    #define all the layers used in model\n",
    "    def __init__(self, vocab_size, embedding_dim, hidden_dim, output_dim, n_layers, \n",
    "                 bidirectional, dropout):\n",
    "        \n",
    "        #Constructor\n",
    "        super().__init__()          \n",
    "        \n",
    "        #embedding layer\n",
    "        self.embedding = nn.Embedding(vocab_size, embedding_dim)\n",
    "        \n",
    "        #lstm layer\n",
    "        self.lstm = nn.LSTM(embedding_dim, \n",
    "                           hidden_dim, \n",
    "                           num_layers=n_layers, \n",
    "                           bidirectional=bidirectional, \n",
    "                           dropout=dropout,\n",
    "                           batch_first=True)\n",
    "        \n",
    "        #dense layer\n",
    "        self.fc = nn.Linear(hidden_dim * 2, output_dim)\n",
    "        \n",
    "        #activation function\n",
    "        self.act = nn.Sigmoid()\n",
    "        \n",
    "    def forward(self, text, text_lengths):\n",
    "        \n",
    "        #text = [batch size,sent_length]\n",
    "        embedded = self.embedding(text)\n",
    "        #embedded = [batch size, sent_len, emb dim]\n",
    "      \n",
    "        #packed sequence\n",
    "        packed_embedded = nn.utils.rnn.pack_padded_sequence(embedded, text_lengths, batch_first=True)\n",
    "        \n",
    "        packed_output, (hidden, cell) = self.lstm(packed_embedded)\n",
    "        #hidden = [batch size, num layers * num directions,hid dim]\n",
    "        #cell = [batch size, num layers * num directions,hid dim]\n",
    "        \n",
    "        #concat the final forward and backward hidden state\n",
    "        hidden = torch.cat((hidden[-2,:,:], hidden[-1,:,:]), dim = 1)\n",
    "                \n",
    "        #hidden = [batch size, hid dim * num directions]\n",
    "        dense_outputs=self.fc(hidden)\n",
    "\n",
    "        #Final activation function\n",
    "        outputs=self.act(dense_outputs)\n",
    "        \n",
    "        return outputs"
   ]
  },
  {
   "cell_type": "code",
   "execution_count": 20,
   "metadata": {
    "execution": {
     "iopub.execute_input": "2021-09-30T08:38:31.798263Z",
     "iopub.status.busy": "2021-09-30T08:38:31.797962Z",
     "iopub.status.idle": "2021-09-30T08:38:31.823856Z",
     "shell.execute_reply": "2021-09-30T08:38:31.822953Z",
     "shell.execute_reply.started": "2021-09-30T08:38:31.798208Z"
    }
   },
   "outputs": [],
   "source": [
    "#define hyperparameters\n",
    "size_of_vocab = len(TEXT.vocab)\n",
    "embedding_dim = 100\n",
    "num_hidden_nodes = 32\n",
    "num_output_nodes = 5\n",
    "num_layers = 2\n",
    "bidirection = True\n",
    "dropout = 0.2\n",
    "\n",
    "#instantiate the model\n",
    "model = classifier(size_of_vocab, embedding_dim, num_hidden_nodes,num_output_nodes, num_layers, \n",
    "                   bidirectional = True, dropout = dropout)"
   ]
  },
  {
   "cell_type": "code",
   "execution_count": 21,
   "metadata": {
    "execution": {
     "iopub.execute_input": "2021-09-30T08:38:46.456295Z",
     "iopub.status.busy": "2021-09-30T08:38:46.455996Z",
     "iopub.status.idle": "2021-09-30T08:38:46.472074Z",
     "shell.execute_reply": "2021-09-30T08:38:46.471193Z",
     "shell.execute_reply.started": "2021-09-30T08:38:46.456239Z"
    }
   },
   "outputs": [],
   "source": [
    "#architecture\n",
    "print(model)\n",
    "\n",
    "#No. of trianable parameters\n",
    "def count_parameters(model):\n",
    "    return sum(p.numel() for p in model.parameters() if p.requires_grad)\n",
    "    \n",
    "print(f'The model has {count_parameters(model):,} trainable parameters')\n",
    "\n",
    "#Initialize the pretrained embedding\n",
    "pretrained_embeddings = TEXT.vocab.vectors\n",
    "model.embedding.weight.data.copy_(pretrained_embeddings)\n",
    "\n",
    "print(pretrained_embeddings.shape)"
   ]
  },
  {
   "cell_type": "code",
   "execution_count": 44,
   "metadata": {
    "execution": {
     "iopub.execute_input": "2021-09-30T09:00:35.478175Z",
     "iopub.status.busy": "2021-09-30T09:00:35.477883Z",
     "iopub.status.idle": "2021-09-30T09:00:35.488841Z",
     "shell.execute_reply": "2021-09-30T09:00:35.487010Z",
     "shell.execute_reply.started": "2021-09-30T09:00:35.478120Z"
    }
   },
   "outputs": [],
   "source": [
    "import torch.optim as optim\n",
    "\n",
    "#define optimizer and loss\n",
    "optimizer = optim.Adam(model.parameters())\n",
    "criterion = nn.BCELoss(weight=torch.tensor([0.012145, 0.066683, 0.609063, 1.827189, 2.109043])) \n",
    "\n",
    "#define metric\n",
    "def binary_accuracy(preds, y):\n",
    "    #round predictions to the closest integer\n",
    "    rounded_preds = torch.round(preds)\n",
    "    \n",
    "    correct = (rounded_preds == y).float() \n",
    "    acc = correct.sum().sum() / len(correct)\n",
    "    return acc\n",
    "    \n",
    "#push to cuda if available\n",
    "model = model.to(device)\n",
    "criterion = criterion.to(device)"
   ]
  },
  {
   "cell_type": "code",
   "execution_count": 45,
   "metadata": {
    "execution": {
     "iopub.execute_input": "2021-09-30T09:00:40.183959Z",
     "iopub.status.busy": "2021-09-30T09:00:40.183631Z",
     "iopub.status.idle": "2021-09-30T09:00:40.193010Z",
     "shell.execute_reply": "2021-09-30T09:00:40.190963Z",
     "shell.execute_reply.started": "2021-09-30T09:00:40.183898Z"
    }
   },
   "outputs": [],
   "source": [
    "def train(model, iterator, optimizer, criterion):\n",
    "    \n",
    "    #initialize every epoch \n",
    "    epoch_loss = 0\n",
    "    epoch_acc = 0\n",
    "    \n",
    "    #set the model in training phase\n",
    "    model.train()  \n",
    "    \n",
    "    for batch in iterator:\n",
    "        \n",
    "        #resets the gradients after every batch\n",
    "        optimizer.zero_grad()   \n",
    "        \n",
    "        #retrieve text and no. of words\n",
    "        text, text_lengths = batch.tweet   \n",
    "        #convert to 1D tensor\n",
    "        predictions = model(text, text_lengths)\n",
    "        \n",
    "        #find label\n",
    "        batch_size = batch.type.shape[0]\n",
    "        target = torch.zeros((batch_size, num_output_nodes))\n",
    "        target[[i for i in range(batch_size)], batch.type.to(\"cpu\").numpy()] = 1.0\n",
    "        target = target.to(device)\n",
    "        \n",
    "        #compute the loss\n",
    "        loss = criterion(predictions, target)        \n",
    "        \n",
    "        #compute the binary accuracy\n",
    "        acc = binary_accuracy(predictions, target)   \n",
    "        \n",
    "        #backpropage the loss and compute the gradients\n",
    "        loss.backward()       \n",
    "        \n",
    "        #update the weights\n",
    "        optimizer.step()      \n",
    "        \n",
    "        #loss and accuracy\n",
    "        epoch_loss += loss.item()  \n",
    "        epoch_acc += acc.item()    \n",
    "        \n",
    "    return epoch_loss / len(iterator), epoch_acc / len(iterator)"
   ]
  },
  {
   "cell_type": "code",
   "execution_count": 48,
   "metadata": {
    "execution": {
     "iopub.execute_input": "2021-09-30T09:01:23.813454Z",
     "iopub.status.busy": "2021-09-30T09:01:23.813074Z",
     "iopub.status.idle": "2021-09-30T09:01:23.821996Z",
     "shell.execute_reply": "2021-09-30T09:01:23.820707Z",
     "shell.execute_reply.started": "2021-09-30T09:01:23.813384Z"
    }
   },
   "outputs": [],
   "source": [
    "def evaluate(model, iterator, criterion):\n",
    "    \n",
    "    #initialize every epoch\n",
    "    epoch_loss = 0\n",
    "    epoch_acc = 0\n",
    "\n",
    "    #deactivating dropout layers\n",
    "    model.eval()\n",
    "    \n",
    "    #deactivates autograd\n",
    "    with torch.no_grad():\n",
    "    \n",
    "        for batch in iterator:\n",
    "        \n",
    "            #retrieve text and no. of words\n",
    "            text, text_lengths = batch.tweet\n",
    "            \n",
    "            #convert to 1d tensor\n",
    "            predictions = model(text, text_lengths)\n",
    "            \n",
    "            #compute the label\n",
    "            batch_size = batch.type.shape[0]\n",
    "            target = torch.zeros((batch_size, num_output_nodes))\n",
    "            target[[i for i in range(batch_size)], batch.type.to(\"cpu\").numpy()] = 1.0\n",
    "            target = target.to(device)\n",
    "            \n",
    "            #compute loss and accuracy\n",
    "            loss = criterion(predictions, target)        \n",
    "            acc = binary_accuracy(predictions, target)\n",
    "            \n",
    "            #keep track of loss and accuracy\n",
    "            epoch_loss += loss.item()\n",
    "            epoch_acc += acc.item()\n",
    "        \n",
    "    return epoch_loss / len(iterator), epoch_acc / len(iterator)"
   ]
  },
  {
   "cell_type": "code",
   "execution_count": 50,
   "metadata": {
    "execution": {
     "iopub.execute_input": "2021-09-30T09:02:21.157042Z",
     "iopub.status.busy": "2021-09-30T09:02:21.156708Z",
     "iopub.status.idle": "2021-09-30T09:03:24.654848Z",
     "shell.execute_reply": "2021-09-30T09:03:24.653841Z",
     "shell.execute_reply.started": "2021-09-30T09:02:21.156988Z"
    }
   },
   "outputs": [],
   "source": [
    "best_valid_loss = float('inf')\n",
    "\n",
    "train_loss = np.zeros((1, N_EPOCHS))\n",
    "valid_loss = np.zeros((1, N_EPOCHS))\n",
    "train_acc = np.zeros((1, N_EPOCHS))\n",
    "valid_acc = np.zeros((1, N_EPOCHS))\n",
    "\n",
    "for epoch in range(N_EPOCHS):\n",
    "     \n",
    "    #train the model\n",
    "    train_loss[0, epoch], train_acc[0, epoch] = train(model, train_iterator, optimizer, criterion)\n",
    "    \n",
    "    #evaluate the model\n",
    "    valid_loss[0, epoch], valid_acc[0, epoch] = evaluate(model, valid_iterator, criterion)\n",
    "    \n",
    "    #save the best model\n",
    "    if valid_loss[0, epoch] < best_valid_loss:\n",
    "        best_valid_loss = valid_loss[0, epoch]\n",
    "        torch.save(model.state_dict(), models_folder+'saved_weights('+str(epoch)+').pt')\n",
    "    \n",
    "    print(f\"EPOCH {epoch}%\")\n",
    "    print(f'\\tTrain Loss: {train_loss[0, epoch]:.3f} | Train Acc: {train_acc[0, epoch]*100:.2f}%')\n",
    "    print(f'\\t Val. Loss: {valid_loss[0, epoch]:.3f} |  Val. Acc: {valid_acc[0, epoch]*100:.2f}%')\n"
   ]
  },
  {
   "cell_type": "code",
   "execution_count": 26,
   "metadata": {
    "execution": {
     "iopub.execute_input": "2021-09-30T08:42:52.205462Z",
     "iopub.status.busy": "2021-09-30T08:42:52.205129Z",
     "iopub.status.idle": "2021-09-30T08:42:52.461290Z",
     "shell.execute_reply": "2021-09-30T08:42:52.460021Z",
     "shell.execute_reply.started": "2021-09-30T08:42:52.205407Z"
    }
   },
   "outputs": [],
   "source": [
    "# Plot the complexity graph\n",
    "plt.plot(train_loss[0,:], label = \"train\")\n",
    "plt.plot(valid_loss[0,:], label = \"validation\")\n",
    "plt.xlabel('epoch')\n",
    "# Set the y axis label of the current axis.\n",
    "plt.ylabel('error')\n",
    "# Set a title of the current axes.\n",
    "plt.title('Complexity graph')\n",
    "# show a legend on the plot\n",
    "plt.legend()\n",
    "# Display a figure.\n",
    "plt.show()"
   ]
  },
  {
   "cell_type": "code",
   "execution_count": 28,
   "metadata": {
    "execution": {
     "iopub.execute_input": "2021-09-30T08:43:26.789317Z",
     "iopub.status.busy": "2021-09-30T08:43:26.788966Z",
     "iopub.status.idle": "2021-09-30T08:43:27.400677Z",
     "shell.execute_reply": "2021-09-30T08:43:27.399828Z",
     "shell.execute_reply.started": "2021-09-30T08:43:26.789258Z"
    }
   },
   "outputs": [],
   "source": [
    "#load weights\n",
    "path='./saved_weights('+str(N_EPOCHS - 1)+').pt'\n",
    "model.load_state_dict(torch.load(path));\n",
    "model.eval();\n",
    "\n",
    "#inference \n",
    "import spacy\n",
    "nlp = spacy.load('en') # I replace \"en\" by \"fr\"\n",
    "\n",
    "CLASS = [\"Sexual violence\", \"Physical violence\", \"Emotional Violence\",\n",
    "         \"Economic Violence\", \"Harmful traditional practice\"]\n",
    "\n",
    "def predict(model, sentence):\n",
    "    tokenized = [tok.text for tok in nlp.tokenizer(sentence)]  #tokenize the sentence \n",
    "    indexed = [TEXT.vocab.stoi[t] for t in tokenized]          #convert to integer sequence\n",
    "    \n",
    "    length = len(indexed)\n",
    "    length_tensor = torch.LongTensor([length]).to('cpu')\n",
    "    \n",
    "    my_tensor = torch.LongTensor(indexed).to(device)           #convert to tensor\n",
    "    my_tensor = torch.reshape(my_tensor, (1, length))          #reshape in form of batch,no. of words\n",
    "    \n",
    "    prediction = model(my_tensor, length_tensor)               #prediction \n",
    "    i = prediction.argmax().to('cpu').numpy()\n",
    "    \n",
    "    return CLASS[i]"
   ]
  },
  {
   "cell_type": "code",
   "execution_count": 36,
   "metadata": {
    "execution": {
     "iopub.execute_input": "2021-09-30T08:45:49.883755Z",
     "iopub.status.busy": "2021-09-30T08:45:49.883408Z",
     "iopub.status.idle": "2021-09-30T08:45:49.896280Z",
     "shell.execute_reply": "2021-09-30T08:45:49.894850Z",
     "shell.execute_reply.started": "2021-09-30T08:45:49.883700Z"
    }
   },
   "outputs": [],
   "source": [
    "# make predictions\n",
    "predict(model, \"he humiliate me in front of my children\")"
   ]
  }
 ],
 "metadata": {
  "kernelspec": {
   "display_name": "Python 3",
   "language": "python",
   "name": "python3"
  },
  "language_info": {
   "codemirror_mode": {
    "name": "ipython",
    "version": 3
   },
   "file_extension": ".py",
   "mimetype": "text/x-python",
   "name": "python",
   "nbconvert_exporter": "python",
   "pygments_lexer": "ipython3",
   "version": "3.6.9"
  }
 },
 "nbformat": 4,
 "nbformat_minor": 4
}
